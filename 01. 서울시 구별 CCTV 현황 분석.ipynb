{
 "cells": [
  {
   "cell_type": "markdown",
   "id": "96fa08de",
   "metadata": {},
   "source": [
    "# 서울시 구별 CCTV 현황 분석\n",
    "---\n",
    "[목표]\n",
    "- 서울시 구별 CCTV 수 파악하고, 인구대비 CCTV 비율 파악해서 순위 비교하기\n",
    "- 인구대비 CCTV 평균치 확인 후, CCTV 수가 과하게 부족한 구를 확인하기\n",
    "- Pandas, matplotlib(시각화 라이브러리)의 기본적 사용법 확인하기"
   ]
  },
  {
   "cell_type": "code",
   "execution_count": 1,
   "id": "9e2b34be",
   "metadata": {},
   "outputs": [],
   "source": [
    "import numpy as np\n",
    "import pandas as pd"
   ]
  },
  {
   "cell_type": "markdown",
   "id": "0d877dfc",
   "metadata": {},
   "source": [
    "### 연도별 CCTV 현황 데이터 로딩"
   ]
  },
  {
   "cell_type": "code",
   "execution_count": 2,
   "id": "ad23add4",
   "metadata": {},
   "outputs": [
    {
     "data": {
      "text/html": [
       "<div>\n",
       "<style scoped>\n",
       "    .dataframe tbody tr th:only-of-type {\n",
       "        vertical-align: middle;\n",
       "    }\n",
       "\n",
       "    .dataframe tbody tr th {\n",
       "        vertical-align: top;\n",
       "    }\n",
       "\n",
       "    .dataframe thead th {\n",
       "        text-align: right;\n",
       "    }\n",
       "</style>\n",
       "<table border=\"1\" class=\"dataframe\">\n",
       "  <thead>\n",
       "    <tr style=\"text-align: right;\">\n",
       "      <th></th>\n",
       "      <th>기관명</th>\n",
       "      <th>소계</th>\n",
       "      <th>2013년도 이전</th>\n",
       "      <th>2014년</th>\n",
       "      <th>2015년</th>\n",
       "      <th>2016년</th>\n",
       "    </tr>\n",
       "  </thead>\n",
       "  <tbody>\n",
       "    <tr>\n",
       "      <th>0</th>\n",
       "      <td>강남구</td>\n",
       "      <td>2780</td>\n",
       "      <td>1292</td>\n",
       "      <td>430</td>\n",
       "      <td>584</td>\n",
       "      <td>932</td>\n",
       "    </tr>\n",
       "    <tr>\n",
       "      <th>1</th>\n",
       "      <td>강동구</td>\n",
       "      <td>773</td>\n",
       "      <td>379</td>\n",
       "      <td>99</td>\n",
       "      <td>155</td>\n",
       "      <td>377</td>\n",
       "    </tr>\n",
       "    <tr>\n",
       "      <th>2</th>\n",
       "      <td>강북구</td>\n",
       "      <td>748</td>\n",
       "      <td>369</td>\n",
       "      <td>120</td>\n",
       "      <td>138</td>\n",
       "      <td>204</td>\n",
       "    </tr>\n",
       "  </tbody>\n",
       "</table>\n",
       "</div>"
      ],
      "text/plain": [
       "   기관명    소계  2013년도 이전  2014년  2015년  2016년\n",
       "0  강남구  2780       1292    430    584    932\n",
       "1  강동구   773        379     99    155    377\n",
       "2  강북구   748        369    120    138    204"
      ]
     },
     "execution_count": 2,
     "metadata": {},
     "output_type": "execute_result"
    }
   ],
   "source": [
    "CCTV_Seoul = pd.read_csv(\n",
    "     './data/01. CCTV_in_Seoul.csv'\n",
    "    ,encoding='UTF-8'\n",
    ")\n",
    "CCTV_Seoul.head(3)"
   ]
  },
  {
   "cell_type": "markdown",
   "id": "c4386f8b",
   "metadata": {},
   "source": [
    "### 1. 컬럼명 확인\n",
    "- columns attribute 사용"
   ]
  },
  {
   "cell_type": "code",
   "execution_count": 3,
   "id": "f8002706",
   "metadata": {},
   "outputs": [
    {
     "data": {
      "text/plain": [
       "Index(['기관명', '소계', '2013년도 이전', '2014년', '2015년', '2016년'], dtype='object')"
      ]
     },
     "execution_count": 3,
     "metadata": {},
     "output_type": "execute_result"
    }
   ],
   "source": [
    "CCTV_Seoul.columns\n",
    "# dtype='object' : ndarray의 데이터타입"
   ]
  },
  {
   "cell_type": "markdown",
   "id": "4cac7166",
   "metadata": {},
   "source": [
    "### 2. 컬럼명 변경\n",
    "- '기관명 > '구별' 로 변경하기"
   ]
  },
  {
   "cell_type": "code",
   "execution_count": 4,
   "id": "ea12bf1c",
   "metadata": {},
   "outputs": [],
   "source": [
    "CCTV_Seoul.rename(\n",
    "    columns={CCTV_Seoul.columns[0] : '구별'} \n",
    "    # CCTV_Seoul.columns[0] : 기관명 : 인덱싱을 활용하면 편리함\n",
    "    , inplace=True\n",
    ")"
   ]
  },
  {
   "cell_type": "code",
   "execution_count": 5,
   "id": "a89e6c61",
   "metadata": {},
   "outputs": [
    {
     "data": {
      "text/html": [
       "<div>\n",
       "<style scoped>\n",
       "    .dataframe tbody tr th:only-of-type {\n",
       "        vertical-align: middle;\n",
       "    }\n",
       "\n",
       "    .dataframe tbody tr th {\n",
       "        vertical-align: top;\n",
       "    }\n",
       "\n",
       "    .dataframe thead th {\n",
       "        text-align: right;\n",
       "    }\n",
       "</style>\n",
       "<table border=\"1\" class=\"dataframe\">\n",
       "  <thead>\n",
       "    <tr style=\"text-align: right;\">\n",
       "      <th></th>\n",
       "      <th>구별</th>\n",
       "      <th>소계</th>\n",
       "      <th>2013년도 이전</th>\n",
       "      <th>2014년</th>\n",
       "      <th>2015년</th>\n",
       "      <th>2016년</th>\n",
       "    </tr>\n",
       "  </thead>\n",
       "  <tbody>\n",
       "    <tr>\n",
       "      <th>0</th>\n",
       "      <td>강남구</td>\n",
       "      <td>2780</td>\n",
       "      <td>1292</td>\n",
       "      <td>430</td>\n",
       "      <td>584</td>\n",
       "      <td>932</td>\n",
       "    </tr>\n",
       "    <tr>\n",
       "      <th>1</th>\n",
       "      <td>강동구</td>\n",
       "      <td>773</td>\n",
       "      <td>379</td>\n",
       "      <td>99</td>\n",
       "      <td>155</td>\n",
       "      <td>377</td>\n",
       "    </tr>\n",
       "    <tr>\n",
       "      <th>2</th>\n",
       "      <td>강북구</td>\n",
       "      <td>748</td>\n",
       "      <td>369</td>\n",
       "      <td>120</td>\n",
       "      <td>138</td>\n",
       "      <td>204</td>\n",
       "    </tr>\n",
       "  </tbody>\n",
       "</table>\n",
       "</div>"
      ],
      "text/plain": [
       "    구별    소계  2013년도 이전  2014년  2015년  2016년\n",
       "0  강남구  2780       1292    430    584    932\n",
       "1  강동구   773        379     99    155    377\n",
       "2  강북구   748        369    120    138    204"
      ]
     },
     "execution_count": 5,
     "metadata": {},
     "output_type": "execute_result"
    }
   ],
   "source": [
    "CCTV_Seoul.head(3)"
   ]
  },
  {
   "cell_type": "markdown",
   "id": "431ddebd",
   "metadata": {},
   "source": [
    "### 인구 현황 데이터 로딩"
   ]
  },
  {
   "cell_type": "code",
   "execution_count": 9,
   "id": "e20d99e0",
   "metadata": {},
   "outputs": [],
   "source": [
    "POP_Seoul = pd.read_excel(\n",
    "     './data/01. population_in_Seoul.xls' #파일 지정\n",
    "    ,header = 2 #두 번째 헤더까지 삭제함 (맨 위부터 두 행이 삭제됨)\n",
    "    ,usecols = 'B,D,G,J,N' #가져올 컬럼 선택\n",
    ")"
   ]
  },
  {
   "cell_type": "code",
   "execution_count": 10,
   "id": "321437dd",
   "metadata": {},
   "outputs": [
    {
     "data": {
      "text/html": [
       "<div>\n",
       "<style scoped>\n",
       "    .dataframe tbody tr th:only-of-type {\n",
       "        vertical-align: middle;\n",
       "    }\n",
       "\n",
       "    .dataframe tbody tr th {\n",
       "        vertical-align: top;\n",
       "    }\n",
       "\n",
       "    .dataframe thead th {\n",
       "        text-align: right;\n",
       "    }\n",
       "</style>\n",
       "<table border=\"1\" class=\"dataframe\">\n",
       "  <thead>\n",
       "    <tr style=\"text-align: right;\">\n",
       "      <th></th>\n",
       "      <th>자치구</th>\n",
       "      <th>계</th>\n",
       "      <th>계.1</th>\n",
       "      <th>계.2</th>\n",
       "      <th>65세이상고령자</th>\n",
       "    </tr>\n",
       "  </thead>\n",
       "  <tbody>\n",
       "    <tr>\n",
       "      <th>0</th>\n",
       "      <td>합계</td>\n",
       "      <td>10197604.0</td>\n",
       "      <td>9926968.0</td>\n",
       "      <td>270636.0</td>\n",
       "      <td>1321458.0</td>\n",
       "    </tr>\n",
       "    <tr>\n",
       "      <th>1</th>\n",
       "      <td>종로구</td>\n",
       "      <td>162820.0</td>\n",
       "      <td>153589.0</td>\n",
       "      <td>9231.0</td>\n",
       "      <td>25425.0</td>\n",
       "    </tr>\n",
       "    <tr>\n",
       "      <th>2</th>\n",
       "      <td>중구</td>\n",
       "      <td>133240.0</td>\n",
       "      <td>124312.0</td>\n",
       "      <td>8928.0</td>\n",
       "      <td>20764.0</td>\n",
       "    </tr>\n",
       "  </tbody>\n",
       "</table>\n",
       "</div>"
      ],
      "text/plain": [
       "   자치구           계        계.1       계.2   65세이상고령자\n",
       "0   합계  10197604.0  9926968.0  270636.0  1321458.0\n",
       "1  종로구    162820.0   153589.0    9231.0    25425.0\n",
       "2   중구    133240.0   124312.0    8928.0    20764.0"
      ]
     },
     "execution_count": 10,
     "metadata": {},
     "output_type": "execute_result"
    }
   ],
   "source": [
    "POP_Seoul.head(3)"
   ]
  },
  {
   "cell_type": "markdown",
   "id": "7c0a5686",
   "metadata": {},
   "source": [
    "### 컬럼명 변경\n",
    "- 자치구 > 구별\n",
    "- 인구수 > 계\n",
    "- 계.1 > 한국인\n",
    "- 계.2 > 외국인\n",
    "- 65세이상고령자 > 고령자"
   ]
  },
  {
   "cell_type": "code",
   "execution_count": 11,
   "id": "85b4b626",
   "metadata": {},
   "outputs": [],
   "source": [
    "POP_Seoul.rename(\n",
    "    columns={ # 컬럼명 변경\n",
    "         POP_Seoul.columns[0] : '구별'\n",
    "        ,POP_Seoul.columns[1] : '인구수'\n",
    "        ,POP_Seoul.columns[2] : '한국인'\n",
    "        ,POP_Seoul.columns[3] : '외국인'\n",
    "        ,POP_Seoul.columns[4] : '고령자'\n",
    "    }\n",
    "    , inplace=True #원본에 반영\n",
    ")"
   ]
  },
  {
   "cell_type": "code",
   "execution_count": 12,
   "id": "893b2bc4",
   "metadata": {},
   "outputs": [
    {
     "data": {
      "text/html": [
       "<div>\n",
       "<style scoped>\n",
       "    .dataframe tbody tr th:only-of-type {\n",
       "        vertical-align: middle;\n",
       "    }\n",
       "\n",
       "    .dataframe tbody tr th {\n",
       "        vertical-align: top;\n",
       "    }\n",
       "\n",
       "    .dataframe thead th {\n",
       "        text-align: right;\n",
       "    }\n",
       "</style>\n",
       "<table border=\"1\" class=\"dataframe\">\n",
       "  <thead>\n",
       "    <tr style=\"text-align: right;\">\n",
       "      <th></th>\n",
       "      <th>구별</th>\n",
       "      <th>인구수</th>\n",
       "      <th>한국인</th>\n",
       "      <th>외국인</th>\n",
       "      <th>고령자</th>\n",
       "    </tr>\n",
       "  </thead>\n",
       "  <tbody>\n",
       "    <tr>\n",
       "      <th>0</th>\n",
       "      <td>합계</td>\n",
       "      <td>10197604.0</td>\n",
       "      <td>9926968.0</td>\n",
       "      <td>270636.0</td>\n",
       "      <td>1321458.0</td>\n",
       "    </tr>\n",
       "    <tr>\n",
       "      <th>1</th>\n",
       "      <td>종로구</td>\n",
       "      <td>162820.0</td>\n",
       "      <td>153589.0</td>\n",
       "      <td>9231.0</td>\n",
       "      <td>25425.0</td>\n",
       "    </tr>\n",
       "    <tr>\n",
       "      <th>2</th>\n",
       "      <td>중구</td>\n",
       "      <td>133240.0</td>\n",
       "      <td>124312.0</td>\n",
       "      <td>8928.0</td>\n",
       "      <td>20764.0</td>\n",
       "    </tr>\n",
       "  </tbody>\n",
       "</table>\n",
       "</div>"
      ],
      "text/plain": [
       "    구별         인구수        한국인       외국인        고령자\n",
       "0   합계  10197604.0  9926968.0  270636.0  1321458.0\n",
       "1  종로구    162820.0   153589.0    9231.0    25425.0\n",
       "2   중구    133240.0   124312.0    8928.0    20764.0"
      ]
     },
     "execution_count": 12,
     "metadata": {},
     "output_type": "execute_result"
    }
   ],
   "source": [
    "POP_Seoul.head(3)"
   ]
  },
  {
   "cell_type": "markdown",
   "id": "211367e9",
   "metadata": {},
   "source": [
    "# CCTV  현황과 인구 현황의 데이터 파악하기"
   ]
  },
  {
   "cell_type": "markdown",
   "id": "8b6f7ada",
   "metadata": {},
   "source": [
    "### 1. CCTV 데이터 파악\n",
    "- 전체 구조 파악"
   ]
  },
  {
   "cell_type": "code",
   "execution_count": 53,
   "id": "52cd5d5c",
   "metadata": {},
   "outputs": [
    {
     "data": {
      "text/html": [
       "<div>\n",
       "<style scoped>\n",
       "    .dataframe tbody tr th:only-of-type {\n",
       "        vertical-align: middle;\n",
       "    }\n",
       "\n",
       "    .dataframe tbody tr th {\n",
       "        vertical-align: top;\n",
       "    }\n",
       "\n",
       "    .dataframe thead th {\n",
       "        text-align: right;\n",
       "    }\n",
       "</style>\n",
       "<table border=\"1\" class=\"dataframe\">\n",
       "  <thead>\n",
       "    <tr style=\"text-align: right;\">\n",
       "      <th></th>\n",
       "      <th>구별</th>\n",
       "      <th>소계</th>\n",
       "      <th>2013년도 이전</th>\n",
       "      <th>2014년</th>\n",
       "      <th>2015년</th>\n",
       "      <th>2016년</th>\n",
       "    </tr>\n",
       "  </thead>\n",
       "  <tbody>\n",
       "    <tr>\n",
       "      <th>0</th>\n",
       "      <td>강남구</td>\n",
       "      <td>2780</td>\n",
       "      <td>1292</td>\n",
       "      <td>430</td>\n",
       "      <td>584</td>\n",
       "      <td>932</td>\n",
       "    </tr>\n",
       "    <tr>\n",
       "      <th>1</th>\n",
       "      <td>강동구</td>\n",
       "      <td>773</td>\n",
       "      <td>379</td>\n",
       "      <td>99</td>\n",
       "      <td>155</td>\n",
       "      <td>377</td>\n",
       "    </tr>\n",
       "    <tr>\n",
       "      <th>2</th>\n",
       "      <td>강북구</td>\n",
       "      <td>748</td>\n",
       "      <td>369</td>\n",
       "      <td>120</td>\n",
       "      <td>138</td>\n",
       "      <td>204</td>\n",
       "    </tr>\n",
       "  </tbody>\n",
       "</table>\n",
       "</div>"
      ],
      "text/plain": [
       "    구별    소계  2013년도 이전  2014년  2015년  2016년\n",
       "0  강남구  2780       1292    430    584    932\n",
       "1  강동구   773        379     99    155    377\n",
       "2  강북구   748        369    120    138    204"
      ]
     },
     "execution_count": 53,
     "metadata": {},
     "output_type": "execute_result"
    }
   ],
   "source": [
    "CCTV_Seoul.head(3)"
   ]
  },
  {
   "cell_type": "markdown",
   "id": "95c9e7cd",
   "metadata": {},
   "source": [
    "- 소계 파악 후 정렬"
   ]
  },
  {
   "cell_type": "code",
   "execution_count": 54,
   "id": "dd56bf9e",
   "metadata": {},
   "outputs": [
    {
     "data": {
      "text/html": [
       "<div>\n",
       "<style scoped>\n",
       "    .dataframe tbody tr th:only-of-type {\n",
       "        vertical-align: middle;\n",
       "    }\n",
       "\n",
       "    .dataframe tbody tr th {\n",
       "        vertical-align: top;\n",
       "    }\n",
       "\n",
       "    .dataframe thead th {\n",
       "        text-align: right;\n",
       "    }\n",
       "</style>\n",
       "<table border=\"1\" class=\"dataframe\">\n",
       "  <thead>\n",
       "    <tr style=\"text-align: right;\">\n",
       "      <th></th>\n",
       "      <th>구별</th>\n",
       "      <th>소계</th>\n",
       "      <th>2013년도 이전</th>\n",
       "      <th>2014년</th>\n",
       "      <th>2015년</th>\n",
       "      <th>2016년</th>\n",
       "    </tr>\n",
       "  </thead>\n",
       "  <tbody>\n",
       "    <tr>\n",
       "      <th>9</th>\n",
       "      <td>도봉구</td>\n",
       "      <td>485</td>\n",
       "      <td>238</td>\n",
       "      <td>159</td>\n",
       "      <td>42</td>\n",
       "      <td>386</td>\n",
       "    </tr>\n",
       "    <tr>\n",
       "      <th>12</th>\n",
       "      <td>마포구</td>\n",
       "      <td>574</td>\n",
       "      <td>314</td>\n",
       "      <td>118</td>\n",
       "      <td>169</td>\n",
       "      <td>379</td>\n",
       "    </tr>\n",
       "    <tr>\n",
       "      <th>17</th>\n",
       "      <td>송파구</td>\n",
       "      <td>618</td>\n",
       "      <td>529</td>\n",
       "      <td>21</td>\n",
       "      <td>68</td>\n",
       "      <td>463</td>\n",
       "    </tr>\n",
       "    <tr>\n",
       "      <th>24</th>\n",
       "      <td>중랑구</td>\n",
       "      <td>660</td>\n",
       "      <td>509</td>\n",
       "      <td>121</td>\n",
       "      <td>177</td>\n",
       "      <td>109</td>\n",
       "    </tr>\n",
       "    <tr>\n",
       "      <th>23</th>\n",
       "      <td>중구</td>\n",
       "      <td>671</td>\n",
       "      <td>413</td>\n",
       "      <td>190</td>\n",
       "      <td>72</td>\n",
       "      <td>348</td>\n",
       "    </tr>\n",
       "    <tr>\n",
       "      <th>5</th>\n",
       "      <td>광진구</td>\n",
       "      <td>707</td>\n",
       "      <td>573</td>\n",
       "      <td>78</td>\n",
       "      <td>53</td>\n",
       "      <td>174</td>\n",
       "    </tr>\n",
       "    <tr>\n",
       "      <th>2</th>\n",
       "      <td>강북구</td>\n",
       "      <td>748</td>\n",
       "      <td>369</td>\n",
       "      <td>120</td>\n",
       "      <td>138</td>\n",
       "      <td>204</td>\n",
       "    </tr>\n",
       "    <tr>\n",
       "      <th>1</th>\n",
       "      <td>강동구</td>\n",
       "      <td>773</td>\n",
       "      <td>379</td>\n",
       "      <td>99</td>\n",
       "      <td>155</td>\n",
       "      <td>377</td>\n",
       "    </tr>\n",
       "    <tr>\n",
       "      <th>3</th>\n",
       "      <td>강서구</td>\n",
       "      <td>884</td>\n",
       "      <td>388</td>\n",
       "      <td>258</td>\n",
       "      <td>184</td>\n",
       "      <td>81</td>\n",
       "    </tr>\n",
       "    <tr>\n",
       "      <th>19</th>\n",
       "      <td>영등포구</td>\n",
       "      <td>904</td>\n",
       "      <td>495</td>\n",
       "      <td>214</td>\n",
       "      <td>195</td>\n",
       "      <td>373</td>\n",
       "    </tr>\n",
       "    <tr>\n",
       "      <th>13</th>\n",
       "      <td>서대문구</td>\n",
       "      <td>962</td>\n",
       "      <td>844</td>\n",
       "      <td>50</td>\n",
       "      <td>68</td>\n",
       "      <td>292</td>\n",
       "    </tr>\n",
       "    <tr>\n",
       "      <th>22</th>\n",
       "      <td>종로구</td>\n",
       "      <td>1002</td>\n",
       "      <td>464</td>\n",
       "      <td>314</td>\n",
       "      <td>211</td>\n",
       "      <td>630</td>\n",
       "    </tr>\n",
       "    <tr>\n",
       "      <th>7</th>\n",
       "      <td>금천구</td>\n",
       "      <td>1015</td>\n",
       "      <td>674</td>\n",
       "      <td>51</td>\n",
       "      <td>269</td>\n",
       "      <td>354</td>\n",
       "    </tr>\n",
       "    <tr>\n",
       "      <th>15</th>\n",
       "      <td>성동구</td>\n",
       "      <td>1062</td>\n",
       "      <td>730</td>\n",
       "      <td>91</td>\n",
       "      <td>241</td>\n",
       "      <td>265</td>\n",
       "    </tr>\n",
       "    <tr>\n",
       "      <th>11</th>\n",
       "      <td>동작구</td>\n",
       "      <td>1091</td>\n",
       "      <td>544</td>\n",
       "      <td>341</td>\n",
       "      <td>103</td>\n",
       "      <td>314</td>\n",
       "    </tr>\n",
       "    <tr>\n",
       "      <th>8</th>\n",
       "      <td>노원구</td>\n",
       "      <td>1265</td>\n",
       "      <td>542</td>\n",
       "      <td>57</td>\n",
       "      <td>451</td>\n",
       "      <td>516</td>\n",
       "    </tr>\n",
       "    <tr>\n",
       "      <th>10</th>\n",
       "      <td>동대문구</td>\n",
       "      <td>1294</td>\n",
       "      <td>1070</td>\n",
       "      <td>23</td>\n",
       "      <td>198</td>\n",
       "      <td>579</td>\n",
       "    </tr>\n",
       "    <tr>\n",
       "      <th>16</th>\n",
       "      <td>성북구</td>\n",
       "      <td>1464</td>\n",
       "      <td>1009</td>\n",
       "      <td>78</td>\n",
       "      <td>360</td>\n",
       "      <td>204</td>\n",
       "    </tr>\n",
       "    <tr>\n",
       "      <th>4</th>\n",
       "      <td>관악구</td>\n",
       "      <td>1496</td>\n",
       "      <td>846</td>\n",
       "      <td>260</td>\n",
       "      <td>390</td>\n",
       "      <td>613</td>\n",
       "    </tr>\n",
       "    <tr>\n",
       "      <th>6</th>\n",
       "      <td>구로구</td>\n",
       "      <td>1561</td>\n",
       "      <td>1142</td>\n",
       "      <td>173</td>\n",
       "      <td>246</td>\n",
       "      <td>323</td>\n",
       "    </tr>\n",
       "    <tr>\n",
       "      <th>20</th>\n",
       "      <td>용산구</td>\n",
       "      <td>1624</td>\n",
       "      <td>1368</td>\n",
       "      <td>218</td>\n",
       "      <td>112</td>\n",
       "      <td>398</td>\n",
       "    </tr>\n",
       "    <tr>\n",
       "      <th>21</th>\n",
       "      <td>은평구</td>\n",
       "      <td>1873</td>\n",
       "      <td>1138</td>\n",
       "      <td>224</td>\n",
       "      <td>278</td>\n",
       "      <td>468</td>\n",
       "    </tr>\n",
       "    <tr>\n",
       "      <th>14</th>\n",
       "      <td>서초구</td>\n",
       "      <td>1930</td>\n",
       "      <td>1406</td>\n",
       "      <td>157</td>\n",
       "      <td>336</td>\n",
       "      <td>398</td>\n",
       "    </tr>\n",
       "    <tr>\n",
       "      <th>18</th>\n",
       "      <td>양천구</td>\n",
       "      <td>2034</td>\n",
       "      <td>1843</td>\n",
       "      <td>142</td>\n",
       "      <td>30</td>\n",
       "      <td>467</td>\n",
       "    </tr>\n",
       "    <tr>\n",
       "      <th>0</th>\n",
       "      <td>강남구</td>\n",
       "      <td>2780</td>\n",
       "      <td>1292</td>\n",
       "      <td>430</td>\n",
       "      <td>584</td>\n",
       "      <td>932</td>\n",
       "    </tr>\n",
       "  </tbody>\n",
       "</table>\n",
       "</div>"
      ],
      "text/plain": [
       "      구별    소계  2013년도 이전  2014년  2015년  2016년\n",
       "9    도봉구   485        238    159     42    386\n",
       "12   마포구   574        314    118    169    379\n",
       "17   송파구   618        529     21     68    463\n",
       "24   중랑구   660        509    121    177    109\n",
       "23    중구   671        413    190     72    348\n",
       "5    광진구   707        573     78     53    174\n",
       "2    강북구   748        369    120    138    204\n",
       "1    강동구   773        379     99    155    377\n",
       "3    강서구   884        388    258    184     81\n",
       "19  영등포구   904        495    214    195    373\n",
       "13  서대문구   962        844     50     68    292\n",
       "22   종로구  1002        464    314    211    630\n",
       "7    금천구  1015        674     51    269    354\n",
       "15   성동구  1062        730     91    241    265\n",
       "11   동작구  1091        544    341    103    314\n",
       "8    노원구  1265        542     57    451    516\n",
       "10  동대문구  1294       1070     23    198    579\n",
       "16   성북구  1464       1009     78    360    204\n",
       "4    관악구  1496        846    260    390    613\n",
       "6    구로구  1561       1142    173    246    323\n",
       "20   용산구  1624       1368    218    112    398\n",
       "21   은평구  1873       1138    224    278    468\n",
       "14   서초구  1930       1406    157    336    398\n",
       "18   양천구  2034       1843    142     30    467\n",
       "0    강남구  2780       1292    430    584    932"
      ]
     },
     "execution_count": 54,
     "metadata": {},
     "output_type": "execute_result"
    }
   ],
   "source": [
    "CCTV_Seoul.sort_values(by='소계') # df 추출됨"
   ]
  },
  {
   "cell_type": "markdown",
   "id": "3c033460",
   "metadata": {},
   "source": [
    "- 가장 적은 5개 조회"
   ]
  },
  {
   "cell_type": "code",
   "execution_count": 55,
   "id": "e0695705",
   "metadata": {},
   "outputs": [
    {
     "data": {
      "text/html": [
       "<div>\n",
       "<style scoped>\n",
       "    .dataframe tbody tr th:only-of-type {\n",
       "        vertical-align: middle;\n",
       "    }\n",
       "\n",
       "    .dataframe tbody tr th {\n",
       "        vertical-align: top;\n",
       "    }\n",
       "\n",
       "    .dataframe thead th {\n",
       "        text-align: right;\n",
       "    }\n",
       "</style>\n",
       "<table border=\"1\" class=\"dataframe\">\n",
       "  <thead>\n",
       "    <tr style=\"text-align: right;\">\n",
       "      <th></th>\n",
       "      <th>구별</th>\n",
       "      <th>소계</th>\n",
       "      <th>2013년도 이전</th>\n",
       "      <th>2014년</th>\n",
       "      <th>2015년</th>\n",
       "      <th>2016년</th>\n",
       "    </tr>\n",
       "  </thead>\n",
       "  <tbody>\n",
       "    <tr>\n",
       "      <th>9</th>\n",
       "      <td>도봉구</td>\n",
       "      <td>485</td>\n",
       "      <td>238</td>\n",
       "      <td>159</td>\n",
       "      <td>42</td>\n",
       "      <td>386</td>\n",
       "    </tr>\n",
       "    <tr>\n",
       "      <th>12</th>\n",
       "      <td>마포구</td>\n",
       "      <td>574</td>\n",
       "      <td>314</td>\n",
       "      <td>118</td>\n",
       "      <td>169</td>\n",
       "      <td>379</td>\n",
       "    </tr>\n",
       "    <tr>\n",
       "      <th>17</th>\n",
       "      <td>송파구</td>\n",
       "      <td>618</td>\n",
       "      <td>529</td>\n",
       "      <td>21</td>\n",
       "      <td>68</td>\n",
       "      <td>463</td>\n",
       "    </tr>\n",
       "    <tr>\n",
       "      <th>24</th>\n",
       "      <td>중랑구</td>\n",
       "      <td>660</td>\n",
       "      <td>509</td>\n",
       "      <td>121</td>\n",
       "      <td>177</td>\n",
       "      <td>109</td>\n",
       "    </tr>\n",
       "    <tr>\n",
       "      <th>23</th>\n",
       "      <td>중구</td>\n",
       "      <td>671</td>\n",
       "      <td>413</td>\n",
       "      <td>190</td>\n",
       "      <td>72</td>\n",
       "      <td>348</td>\n",
       "    </tr>\n",
       "  </tbody>\n",
       "</table>\n",
       "</div>"
      ],
      "text/plain": [
       "     구별   소계  2013년도 이전  2014년  2015년  2016년\n",
       "9   도봉구  485        238    159     42    386\n",
       "12  마포구  574        314    118    169    379\n",
       "17  송파구  618        529     21     68    463\n",
       "24  중랑구  660        509    121    177    109\n",
       "23   중구  671        413    190     72    348"
      ]
     },
     "execution_count": 55,
     "metadata": {},
     "output_type": "execute_result"
    }
   ],
   "source": [
    "CCTV_Seoul.sort_values(by='소계').head(5)"
   ]
  },
  {
   "cell_type": "markdown",
   "id": "82c4aaad",
   "metadata": {},
   "source": [
    "- 가장 많은 5개 조회"
   ]
  },
  {
   "cell_type": "code",
   "execution_count": 57,
   "id": "9f0dfc3b",
   "metadata": {},
   "outputs": [
    {
     "data": {
      "text/html": [
       "<div>\n",
       "<style scoped>\n",
       "    .dataframe tbody tr th:only-of-type {\n",
       "        vertical-align: middle;\n",
       "    }\n",
       "\n",
       "    .dataframe tbody tr th {\n",
       "        vertical-align: top;\n",
       "    }\n",
       "\n",
       "    .dataframe thead th {\n",
       "        text-align: right;\n",
       "    }\n",
       "</style>\n",
       "<table border=\"1\" class=\"dataframe\">\n",
       "  <thead>\n",
       "    <tr style=\"text-align: right;\">\n",
       "      <th></th>\n",
       "      <th>구별</th>\n",
       "      <th>소계</th>\n",
       "      <th>2013년도 이전</th>\n",
       "      <th>2014년</th>\n",
       "      <th>2015년</th>\n",
       "      <th>2016년</th>\n",
       "    </tr>\n",
       "  </thead>\n",
       "  <tbody>\n",
       "    <tr>\n",
       "      <th>20</th>\n",
       "      <td>용산구</td>\n",
       "      <td>1624</td>\n",
       "      <td>1368</td>\n",
       "      <td>218</td>\n",
       "      <td>112</td>\n",
       "      <td>398</td>\n",
       "    </tr>\n",
       "    <tr>\n",
       "      <th>21</th>\n",
       "      <td>은평구</td>\n",
       "      <td>1873</td>\n",
       "      <td>1138</td>\n",
       "      <td>224</td>\n",
       "      <td>278</td>\n",
       "      <td>468</td>\n",
       "    </tr>\n",
       "    <tr>\n",
       "      <th>14</th>\n",
       "      <td>서초구</td>\n",
       "      <td>1930</td>\n",
       "      <td>1406</td>\n",
       "      <td>157</td>\n",
       "      <td>336</td>\n",
       "      <td>398</td>\n",
       "    </tr>\n",
       "    <tr>\n",
       "      <th>18</th>\n",
       "      <td>양천구</td>\n",
       "      <td>2034</td>\n",
       "      <td>1843</td>\n",
       "      <td>142</td>\n",
       "      <td>30</td>\n",
       "      <td>467</td>\n",
       "    </tr>\n",
       "    <tr>\n",
       "      <th>0</th>\n",
       "      <td>강남구</td>\n",
       "      <td>2780</td>\n",
       "      <td>1292</td>\n",
       "      <td>430</td>\n",
       "      <td>584</td>\n",
       "      <td>932</td>\n",
       "    </tr>\n",
       "  </tbody>\n",
       "</table>\n",
       "</div>"
      ],
      "text/plain": [
       "     구별    소계  2013년도 이전  2014년  2015년  2016년\n",
       "20  용산구  1624       1368    218    112    398\n",
       "21  은평구  1873       1138    224    278    468\n",
       "14  서초구  1930       1406    157    336    398\n",
       "18  양천구  2034       1843    142     30    467\n",
       "0   강남구  2780       1292    430    584    932"
      ]
     },
     "execution_count": 57,
     "metadata": {},
     "output_type": "execute_result"
    }
   ],
   "source": [
    "CCTV_Seoul.sort_values(by='소계').tail(5)"
   ]
  },
  {
   "cell_type": "markdown",
   "id": "e4d6ca53",
   "metadata": {},
   "source": [
    "### 최근 3년 간의 증감 비율"
   ]
  },
  {
   "cell_type": "markdown",
   "id": "32289c3a",
   "metadata": {},
   "source": [
    "- 범죄율이 높은 지역에 CCTV 설치가 증가한다. 최대 증가율은 범죄 증가율과 연결된다."
   ]
  },
  {
   "cell_type": "code",
   "execution_count": 58,
   "id": "37a60e26",
   "metadata": {},
   "outputs": [
    {
     "data": {
      "text/html": [
       "<div>\n",
       "<style scoped>\n",
       "    .dataframe tbody tr th:only-of-type {\n",
       "        vertical-align: middle;\n",
       "    }\n",
       "\n",
       "    .dataframe tbody tr th {\n",
       "        vertical-align: top;\n",
       "    }\n",
       "\n",
       "    .dataframe thead th {\n",
       "        text-align: right;\n",
       "    }\n",
       "</style>\n",
       "<table border=\"1\" class=\"dataframe\">\n",
       "  <thead>\n",
       "    <tr style=\"text-align: right;\">\n",
       "      <th></th>\n",
       "      <th>구별</th>\n",
       "      <th>소계</th>\n",
       "      <th>2013년도 이전</th>\n",
       "      <th>2014년</th>\n",
       "      <th>2015년</th>\n",
       "      <th>2016년</th>\n",
       "      <th>최근증가율</th>\n",
       "    </tr>\n",
       "  </thead>\n",
       "  <tbody>\n",
       "    <tr>\n",
       "      <th>0</th>\n",
       "      <td>강남구</td>\n",
       "      <td>2780</td>\n",
       "      <td>1292</td>\n",
       "      <td>430</td>\n",
       "      <td>584</td>\n",
       "      <td>932</td>\n",
       "      <td>1086.136223</td>\n",
       "    </tr>\n",
       "    <tr>\n",
       "      <th>1</th>\n",
       "      <td>강동구</td>\n",
       "      <td>773</td>\n",
       "      <td>379</td>\n",
       "      <td>99</td>\n",
       "      <td>155</td>\n",
       "      <td>377</td>\n",
       "      <td>353.472296</td>\n",
       "    </tr>\n",
       "    <tr>\n",
       "      <th>2</th>\n",
       "      <td>강북구</td>\n",
       "      <td>748</td>\n",
       "      <td>369</td>\n",
       "      <td>120</td>\n",
       "      <td>138</td>\n",
       "      <td>204</td>\n",
       "      <td>313.284553</td>\n",
       "    </tr>\n",
       "  </tbody>\n",
       "</table>\n",
       "</div>"
      ],
      "text/plain": [
       "    구별    소계  2013년도 이전  2014년  2015년  2016년        최근증가율\n",
       "0  강남구  2780       1292    430    584    932  1086.136223\n",
       "1  강동구   773        379     99    155    377   353.472296\n",
       "2  강북구   748        369    120    138    204   313.284553"
      ]
     },
     "execution_count": 58,
     "metadata": {},
     "output_type": "execute_result"
    }
   ],
   "source": [
    "CCTV_Seoul['최근증가율'] = CCTV_Seoul['2014년'] + CCTV_Seoul['2015년'] + \\\n",
    "CCTV_Seoul['2016년'] / CCTV_Seoul['2013년도 이전'] * 100\n",
    "CCTV_Seoul.head(3)"
   ]
  },
  {
   "cell_type": "code",
   "execution_count": 59,
   "id": "e1e0241e",
   "metadata": {},
   "outputs": [
    {
     "data": {
      "text/html": [
       "<div>\n",
       "<style scoped>\n",
       "    .dataframe tbody tr th:only-of-type {\n",
       "        vertical-align: middle;\n",
       "    }\n",
       "\n",
       "    .dataframe tbody tr th {\n",
       "        vertical-align: top;\n",
       "    }\n",
       "\n",
       "    .dataframe thead th {\n",
       "        text-align: right;\n",
       "    }\n",
       "</style>\n",
       "<table border=\"1\" class=\"dataframe\">\n",
       "  <thead>\n",
       "    <tr style=\"text-align: right;\">\n",
       "      <th></th>\n",
       "      <th>구별</th>\n",
       "      <th>소계</th>\n",
       "      <th>2013년도 이전</th>\n",
       "      <th>2014년</th>\n",
       "      <th>2015년</th>\n",
       "      <th>2016년</th>\n",
       "      <th>최근증가율</th>\n",
       "    </tr>\n",
       "  </thead>\n",
       "  <tbody>\n",
       "    <tr>\n",
       "      <th>0</th>\n",
       "      <td>강남구</td>\n",
       "      <td>2780</td>\n",
       "      <td>1292</td>\n",
       "      <td>430</td>\n",
       "      <td>584</td>\n",
       "      <td>932</td>\n",
       "      <td>1086.136223</td>\n",
       "    </tr>\n",
       "    <tr>\n",
       "      <th>4</th>\n",
       "      <td>관악구</td>\n",
       "      <td>1496</td>\n",
       "      <td>846</td>\n",
       "      <td>260</td>\n",
       "      <td>390</td>\n",
       "      <td>613</td>\n",
       "      <td>722.458629</td>\n",
       "    </tr>\n",
       "    <tr>\n",
       "      <th>22</th>\n",
       "      <td>종로구</td>\n",
       "      <td>1002</td>\n",
       "      <td>464</td>\n",
       "      <td>314</td>\n",
       "      <td>211</td>\n",
       "      <td>630</td>\n",
       "      <td>660.775862</td>\n",
       "    </tr>\n",
       "    <tr>\n",
       "      <th>8</th>\n",
       "      <td>노원구</td>\n",
       "      <td>1265</td>\n",
       "      <td>542</td>\n",
       "      <td>57</td>\n",
       "      <td>451</td>\n",
       "      <td>516</td>\n",
       "      <td>603.202952</td>\n",
       "    </tr>\n",
       "    <tr>\n",
       "      <th>21</th>\n",
       "      <td>은평구</td>\n",
       "      <td>1873</td>\n",
       "      <td>1138</td>\n",
       "      <td>224</td>\n",
       "      <td>278</td>\n",
       "      <td>468</td>\n",
       "      <td>543.124780</td>\n",
       "    </tr>\n",
       "  </tbody>\n",
       "</table>\n",
       "</div>"
      ],
      "text/plain": [
       "     구별    소계  2013년도 이전  2014년  2015년  2016년        최근증가율\n",
       "0   강남구  2780       1292    430    584    932  1086.136223\n",
       "4   관악구  1496        846    260    390    613   722.458629\n",
       "22  종로구  1002        464    314    211    630   660.775862\n",
       "8   노원구  1265        542     57    451    516   603.202952\n",
       "21  은평구  1873       1138    224    278    468   543.124780"
      ]
     },
     "execution_count": 59,
     "metadata": {},
     "output_type": "execute_result"
    }
   ],
   "source": [
    "CCTV_Seoul.sort_values(by='최근증가율', ascending=False).head(5)"
   ]
  },
  {
   "cell_type": "markdown",
   "id": "f7852ec0",
   "metadata": {},
   "source": [
    "### 2. 인구 데이터 파악"
   ]
  },
  {
   "cell_type": "code",
   "execution_count": 60,
   "id": "3073ea7e",
   "metadata": {},
   "outputs": [
    {
     "data": {
      "text/html": [
       "<div>\n",
       "<style scoped>\n",
       "    .dataframe tbody tr th:only-of-type {\n",
       "        vertical-align: middle;\n",
       "    }\n",
       "\n",
       "    .dataframe tbody tr th {\n",
       "        vertical-align: top;\n",
       "    }\n",
       "\n",
       "    .dataframe thead th {\n",
       "        text-align: right;\n",
       "    }\n",
       "</style>\n",
       "<table border=\"1\" class=\"dataframe\">\n",
       "  <thead>\n",
       "    <tr style=\"text-align: right;\">\n",
       "      <th></th>\n",
       "      <th>구별</th>\n",
       "      <th>인구수</th>\n",
       "      <th>한국인</th>\n",
       "      <th>외국인</th>\n",
       "      <th>고령자</th>\n",
       "    </tr>\n",
       "  </thead>\n",
       "  <tbody>\n",
       "    <tr>\n",
       "      <th>0</th>\n",
       "      <td>합계</td>\n",
       "      <td>10197604.0</td>\n",
       "      <td>9926968.0</td>\n",
       "      <td>270636.0</td>\n",
       "      <td>1321458.0</td>\n",
       "    </tr>\n",
       "    <tr>\n",
       "      <th>1</th>\n",
       "      <td>종로구</td>\n",
       "      <td>162820.0</td>\n",
       "      <td>153589.0</td>\n",
       "      <td>9231.0</td>\n",
       "      <td>25425.0</td>\n",
       "    </tr>\n",
       "    <tr>\n",
       "      <th>2</th>\n",
       "      <td>중구</td>\n",
       "      <td>133240.0</td>\n",
       "      <td>124312.0</td>\n",
       "      <td>8928.0</td>\n",
       "      <td>20764.0</td>\n",
       "    </tr>\n",
       "  </tbody>\n",
       "</table>\n",
       "</div>"
      ],
      "text/plain": [
       "    구별         인구수        한국인       외국인        고령자\n",
       "0   합계  10197604.0  9926968.0  270636.0  1321458.0\n",
       "1  종로구    162820.0   153589.0    9231.0    25425.0\n",
       "2   중구    133240.0   124312.0    8928.0    20764.0"
      ]
     },
     "execution_count": 60,
     "metadata": {},
     "output_type": "execute_result"
    }
   ],
   "source": [
    "POP_Seoul.head(3)"
   ]
  },
  {
   "cell_type": "markdown",
   "id": "bbb6232a",
   "metadata": {},
   "source": [
    "### 합계 제거\n",
    "- 계산 가능한 컬럼은 빼는 게 좋음\n",
    "- 필요할 때마다 계산해서 씀\n",
    "- 차트로 만들었을 때 튀는 값이 됨"
   ]
  },
  {
   "cell_type": "code",
   "execution_count": 61,
   "id": "c6361d92",
   "metadata": {},
   "outputs": [],
   "source": [
    "POP_Seoul.drop(labels=[0], inplace=True)"
   ]
  },
  {
   "cell_type": "code",
   "execution_count": 62,
   "id": "59ac1c5f",
   "metadata": {},
   "outputs": [
    {
     "data": {
      "text/html": [
       "<div>\n",
       "<style scoped>\n",
       "    .dataframe tbody tr th:only-of-type {\n",
       "        vertical-align: middle;\n",
       "    }\n",
       "\n",
       "    .dataframe tbody tr th {\n",
       "        vertical-align: top;\n",
       "    }\n",
       "\n",
       "    .dataframe thead th {\n",
       "        text-align: right;\n",
       "    }\n",
       "</style>\n",
       "<table border=\"1\" class=\"dataframe\">\n",
       "  <thead>\n",
       "    <tr style=\"text-align: right;\">\n",
       "      <th></th>\n",
       "      <th>구별</th>\n",
       "      <th>인구수</th>\n",
       "      <th>한국인</th>\n",
       "      <th>외국인</th>\n",
       "      <th>고령자</th>\n",
       "    </tr>\n",
       "  </thead>\n",
       "  <tbody>\n",
       "    <tr>\n",
       "      <th>1</th>\n",
       "      <td>종로구</td>\n",
       "      <td>162820.0</td>\n",
       "      <td>153589.0</td>\n",
       "      <td>9231.0</td>\n",
       "      <td>25425.0</td>\n",
       "    </tr>\n",
       "    <tr>\n",
       "      <th>2</th>\n",
       "      <td>중구</td>\n",
       "      <td>133240.0</td>\n",
       "      <td>124312.0</td>\n",
       "      <td>8928.0</td>\n",
       "      <td>20764.0</td>\n",
       "    </tr>\n",
       "    <tr>\n",
       "      <th>3</th>\n",
       "      <td>용산구</td>\n",
       "      <td>244203.0</td>\n",
       "      <td>229456.0</td>\n",
       "      <td>14747.0</td>\n",
       "      <td>36231.0</td>\n",
       "    </tr>\n",
       "  </tbody>\n",
       "</table>\n",
       "</div>"
      ],
      "text/plain": [
       "    구별       인구수       한국인      외국인      고령자\n",
       "1  종로구  162820.0  153589.0   9231.0  25425.0\n",
       "2   중구  133240.0  124312.0   8928.0  20764.0\n",
       "3  용산구  244203.0  229456.0  14747.0  36231.0"
      ]
     },
     "execution_count": 62,
     "metadata": {},
     "output_type": "execute_result"
    }
   ],
   "source": [
    "POP_Seoul.head(3)"
   ]
  },
  {
   "cell_type": "code",
   "execution_count": 63,
   "id": "dd26752d",
   "metadata": {},
   "outputs": [
    {
     "data": {
      "text/plain": [
       "array(['종로구', '중구', '용산구', '성동구', '광진구', '동대문구', '중랑구', '성북구', '강북구',\n",
       "       '도봉구', '노원구', '은평구', '서대문구', '마포구', '양천구', '강서구', '구로구', '금천구',\n",
       "       '영등포구', '동작구', '관악구', '서초구', '강남구', '송파구', '강동구', nan],\n",
       "      dtype=object)"
      ]
     },
     "execution_count": 63,
     "metadata": {},
     "output_type": "execute_result"
    }
   ],
   "source": [
    "POP_Seoul['구별'].unique()"
   ]
  },
  {
   "cell_type": "code",
   "execution_count": 64,
   "id": "a04c82f1",
   "metadata": {},
   "outputs": [
    {
     "data": {
      "text/html": [
       "<div>\n",
       "<style scoped>\n",
       "    .dataframe tbody tr th:only-of-type {\n",
       "        vertical-align: middle;\n",
       "    }\n",
       "\n",
       "    .dataframe tbody tr th {\n",
       "        vertical-align: top;\n",
       "    }\n",
       "\n",
       "    .dataframe thead th {\n",
       "        text-align: right;\n",
       "    }\n",
       "</style>\n",
       "<table border=\"1\" class=\"dataframe\">\n",
       "  <thead>\n",
       "    <tr style=\"text-align: right;\">\n",
       "      <th></th>\n",
       "      <th>구별</th>\n",
       "      <th>인구수</th>\n",
       "      <th>한국인</th>\n",
       "      <th>외국인</th>\n",
       "      <th>고령자</th>\n",
       "    </tr>\n",
       "  </thead>\n",
       "  <tbody>\n",
       "    <tr>\n",
       "      <th>26</th>\n",
       "      <td>NaN</td>\n",
       "      <td>NaN</td>\n",
       "      <td>NaN</td>\n",
       "      <td>NaN</td>\n",
       "      <td>NaN</td>\n",
       "    </tr>\n",
       "  </tbody>\n",
       "</table>\n",
       "</div>"
      ],
      "text/plain": [
       "     구별  인구수  한국인  외국인  고령자\n",
       "26  NaN  NaN  NaN  NaN  NaN"
      ]
     },
     "execution_count": 64,
     "metadata": {},
     "output_type": "execute_result"
    }
   ],
   "source": [
    "POP_Seoul[POP_Seoul['구별'].isnull()]"
   ]
  },
  {
   "cell_type": "code",
   "execution_count": 65,
   "id": "158512d7",
   "metadata": {},
   "outputs": [
    {
     "data": {
      "text/plain": [
       "1     False\n",
       "2     False\n",
       "3     False\n",
       "4     False\n",
       "5     False\n",
       "6     False\n",
       "7     False\n",
       "8     False\n",
       "9     False\n",
       "10    False\n",
       "11    False\n",
       "12    False\n",
       "13    False\n",
       "14    False\n",
       "15    False\n",
       "16    False\n",
       "17    False\n",
       "18    False\n",
       "19    False\n",
       "20    False\n",
       "21    False\n",
       "22    False\n",
       "23    False\n",
       "24    False\n",
       "25    False\n",
       "26     True\n",
       "Name: 구별, dtype: bool"
      ]
     },
     "execution_count": 65,
     "metadata": {},
     "output_type": "execute_result"
    }
   ],
   "source": [
    "POP_Seoul['구별'].isnull()"
   ]
  },
  {
   "cell_type": "code",
   "execution_count": 66,
   "id": "b687889e",
   "metadata": {},
   "outputs": [],
   "source": [
    "POP_Seoul.drop([26], inplace=True)"
   ]
  },
  {
   "cell_type": "code",
   "execution_count": 67,
   "id": "cf477164",
   "metadata": {},
   "outputs": [
    {
     "data": {
      "text/html": [
       "<div>\n",
       "<style scoped>\n",
       "    .dataframe tbody tr th:only-of-type {\n",
       "        vertical-align: middle;\n",
       "    }\n",
       "\n",
       "    .dataframe tbody tr th {\n",
       "        vertical-align: top;\n",
       "    }\n",
       "\n",
       "    .dataframe thead th {\n",
       "        text-align: right;\n",
       "    }\n",
       "</style>\n",
       "<table border=\"1\" class=\"dataframe\">\n",
       "  <thead>\n",
       "    <tr style=\"text-align: right;\">\n",
       "      <th></th>\n",
       "      <th>구별</th>\n",
       "      <th>인구수</th>\n",
       "      <th>한국인</th>\n",
       "      <th>외국인</th>\n",
       "      <th>고령자</th>\n",
       "    </tr>\n",
       "  </thead>\n",
       "  <tbody>\n",
       "  </tbody>\n",
       "</table>\n",
       "</div>"
      ],
      "text/plain": [
       "Empty DataFrame\n",
       "Columns: [구별, 인구수, 한국인, 외국인, 고령자]\n",
       "Index: []"
      ]
     },
     "execution_count": 67,
     "metadata": {},
     "output_type": "execute_result"
    }
   ],
   "source": [
    "POP_Seoul[POP_Seoul['구별'].isnull()]"
   ]
  },
  {
   "cell_type": "markdown",
   "id": "021ea040",
   "metadata": {},
   "source": [
    "### 비율로 변경하기 \n",
    "- 비교하기 위해서는 비율로 변경하는 것이 유리함"
   ]
  },
  {
   "cell_type": "code",
   "execution_count": 68,
   "id": "5a244191",
   "metadata": {},
   "outputs": [],
   "source": [
    "POP_Seoul['외국인비율'] = POP_Seoul['외국인'] / POP_Seoul['인구수']*100\n",
    "POP_Seoul['고령자비율'] = POP_Seoul['고령자'] / POP_Seoul['인구수']*100"
   ]
  },
  {
   "cell_type": "code",
   "execution_count": 69,
   "id": "3bff1864",
   "metadata": {},
   "outputs": [
    {
     "data": {
      "text/html": [
       "<div>\n",
       "<style scoped>\n",
       "    .dataframe tbody tr th:only-of-type {\n",
       "        vertical-align: middle;\n",
       "    }\n",
       "\n",
       "    .dataframe tbody tr th {\n",
       "        vertical-align: top;\n",
       "    }\n",
       "\n",
       "    .dataframe thead th {\n",
       "        text-align: right;\n",
       "    }\n",
       "</style>\n",
       "<table border=\"1\" class=\"dataframe\">\n",
       "  <thead>\n",
       "    <tr style=\"text-align: right;\">\n",
       "      <th></th>\n",
       "      <th>구별</th>\n",
       "      <th>인구수</th>\n",
       "      <th>한국인</th>\n",
       "      <th>외국인</th>\n",
       "      <th>고령자</th>\n",
       "      <th>외국인비율</th>\n",
       "      <th>고령자비율</th>\n",
       "    </tr>\n",
       "  </thead>\n",
       "  <tbody>\n",
       "    <tr>\n",
       "      <th>1</th>\n",
       "      <td>종로구</td>\n",
       "      <td>162820.0</td>\n",
       "      <td>153589.0</td>\n",
       "      <td>9231.0</td>\n",
       "      <td>25425.0</td>\n",
       "      <td>5.669451</td>\n",
       "      <td>15.615404</td>\n",
       "    </tr>\n",
       "    <tr>\n",
       "      <th>2</th>\n",
       "      <td>중구</td>\n",
       "      <td>133240.0</td>\n",
       "      <td>124312.0</td>\n",
       "      <td>8928.0</td>\n",
       "      <td>20764.0</td>\n",
       "      <td>6.700690</td>\n",
       "      <td>15.583909</td>\n",
       "    </tr>\n",
       "    <tr>\n",
       "      <th>3</th>\n",
       "      <td>용산구</td>\n",
       "      <td>244203.0</td>\n",
       "      <td>229456.0</td>\n",
       "      <td>14747.0</td>\n",
       "      <td>36231.0</td>\n",
       "      <td>6.038828</td>\n",
       "      <td>14.836427</td>\n",
       "    </tr>\n",
       "    <tr>\n",
       "      <th>4</th>\n",
       "      <td>성동구</td>\n",
       "      <td>311244.0</td>\n",
       "      <td>303380.0</td>\n",
       "      <td>7864.0</td>\n",
       "      <td>39997.0</td>\n",
       "      <td>2.526635</td>\n",
       "      <td>12.850689</td>\n",
       "    </tr>\n",
       "    <tr>\n",
       "      <th>5</th>\n",
       "      <td>광진구</td>\n",
       "      <td>372164.0</td>\n",
       "      <td>357211.0</td>\n",
       "      <td>14953.0</td>\n",
       "      <td>42214.0</td>\n",
       "      <td>4.017852</td>\n",
       "      <td>11.342849</td>\n",
       "    </tr>\n",
       "  </tbody>\n",
       "</table>\n",
       "</div>"
      ],
      "text/plain": [
       "    구별       인구수       한국인      외국인      고령자     외국인비율      고령자비율\n",
       "1  종로구  162820.0  153589.0   9231.0  25425.0  5.669451  15.615404\n",
       "2   중구  133240.0  124312.0   8928.0  20764.0  6.700690  15.583909\n",
       "3  용산구  244203.0  229456.0  14747.0  36231.0  6.038828  14.836427\n",
       "4  성동구  311244.0  303380.0   7864.0  39997.0  2.526635  12.850689\n",
       "5  광진구  372164.0  357211.0  14953.0  42214.0  4.017852  11.342849"
      ]
     },
     "execution_count": 69,
     "metadata": {},
     "output_type": "execute_result"
    }
   ],
   "source": [
    "POP_Seoul.head()"
   ]
  },
  {
   "cell_type": "markdown",
   "id": "5e472996",
   "metadata": {},
   "source": [
    "### 인구 수가 많은 상위 5개 구"
   ]
  },
  {
   "cell_type": "code",
   "execution_count": 70,
   "id": "f9181e43",
   "metadata": {},
   "outputs": [
    {
     "data": {
      "text/html": [
       "<div>\n",
       "<style scoped>\n",
       "    .dataframe tbody tr th:only-of-type {\n",
       "        vertical-align: middle;\n",
       "    }\n",
       "\n",
       "    .dataframe tbody tr th {\n",
       "        vertical-align: top;\n",
       "    }\n",
       "\n",
       "    .dataframe thead th {\n",
       "        text-align: right;\n",
       "    }\n",
       "</style>\n",
       "<table border=\"1\" class=\"dataframe\">\n",
       "  <thead>\n",
       "    <tr style=\"text-align: right;\">\n",
       "      <th></th>\n",
       "      <th>구별</th>\n",
       "      <th>인구수</th>\n",
       "      <th>한국인</th>\n",
       "      <th>외국인</th>\n",
       "      <th>고령자</th>\n",
       "      <th>외국인비율</th>\n",
       "      <th>고령자비율</th>\n",
       "    </tr>\n",
       "  </thead>\n",
       "  <tbody>\n",
       "    <tr>\n",
       "      <th>24</th>\n",
       "      <td>송파구</td>\n",
       "      <td>667483.0</td>\n",
       "      <td>660584.0</td>\n",
       "      <td>6899.0</td>\n",
       "      <td>72506.0</td>\n",
       "      <td>1.033584</td>\n",
       "      <td>10.862599</td>\n",
       "    </tr>\n",
       "    <tr>\n",
       "      <th>16</th>\n",
       "      <td>강서구</td>\n",
       "      <td>603772.0</td>\n",
       "      <td>597248.0</td>\n",
       "      <td>6524.0</td>\n",
       "      <td>72548.0</td>\n",
       "      <td>1.080540</td>\n",
       "      <td>12.015794</td>\n",
       "    </tr>\n",
       "    <tr>\n",
       "      <th>23</th>\n",
       "      <td>강남구</td>\n",
       "      <td>570500.0</td>\n",
       "      <td>565550.0</td>\n",
       "      <td>4950.0</td>\n",
       "      <td>63167.0</td>\n",
       "      <td>0.867660</td>\n",
       "      <td>11.072217</td>\n",
       "    </tr>\n",
       "    <tr>\n",
       "      <th>11</th>\n",
       "      <td>노원구</td>\n",
       "      <td>569384.0</td>\n",
       "      <td>565565.0</td>\n",
       "      <td>3819.0</td>\n",
       "      <td>71941.0</td>\n",
       "      <td>0.670725</td>\n",
       "      <td>12.634883</td>\n",
       "    </tr>\n",
       "    <tr>\n",
       "      <th>21</th>\n",
       "      <td>관악구</td>\n",
       "      <td>525515.0</td>\n",
       "      <td>507203.0</td>\n",
       "      <td>18312.0</td>\n",
       "      <td>68082.0</td>\n",
       "      <td>3.484582</td>\n",
       "      <td>12.955291</td>\n",
       "    </tr>\n",
       "  </tbody>\n",
       "</table>\n",
       "</div>"
      ],
      "text/plain": [
       "     구별       인구수       한국인      외국인      고령자     외국인비율      고령자비율\n",
       "24  송파구  667483.0  660584.0   6899.0  72506.0  1.033584  10.862599\n",
       "16  강서구  603772.0  597248.0   6524.0  72548.0  1.080540  12.015794\n",
       "23  강남구  570500.0  565550.0   4950.0  63167.0  0.867660  11.072217\n",
       "11  노원구  569384.0  565565.0   3819.0  71941.0  0.670725  12.634883\n",
       "21  관악구  525515.0  507203.0  18312.0  68082.0  3.484582  12.955291"
      ]
     },
     "execution_count": 70,
     "metadata": {},
     "output_type": "execute_result"
    }
   ],
   "source": [
    "POP_Seoul.sort_values(by='인구수', ascending=False).head()"
   ]
  },
  {
   "cell_type": "markdown",
   "id": "82204edf",
   "metadata": {},
   "source": [
    "### 외국인이 많은 상위 5개 구"
   ]
  },
  {
   "cell_type": "code",
   "execution_count": 71,
   "id": "02bf0cb2",
   "metadata": {},
   "outputs": [
    {
     "data": {
      "text/html": [
       "<div>\n",
       "<style scoped>\n",
       "    .dataframe tbody tr th:only-of-type {\n",
       "        vertical-align: middle;\n",
       "    }\n",
       "\n",
       "    .dataframe tbody tr th {\n",
       "        vertical-align: top;\n",
       "    }\n",
       "\n",
       "    .dataframe thead th {\n",
       "        text-align: right;\n",
       "    }\n",
       "</style>\n",
       "<table border=\"1\" class=\"dataframe\">\n",
       "  <thead>\n",
       "    <tr style=\"text-align: right;\">\n",
       "      <th></th>\n",
       "      <th>구별</th>\n",
       "      <th>인구수</th>\n",
       "      <th>한국인</th>\n",
       "      <th>외국인</th>\n",
       "      <th>고령자</th>\n",
       "      <th>외국인비율</th>\n",
       "      <th>고령자비율</th>\n",
       "    </tr>\n",
       "  </thead>\n",
       "  <tbody>\n",
       "    <tr>\n",
       "      <th>19</th>\n",
       "      <td>영등포구</td>\n",
       "      <td>402985.0</td>\n",
       "      <td>368072.0</td>\n",
       "      <td>34913.0</td>\n",
       "      <td>52413.0</td>\n",
       "      <td>8.663598</td>\n",
       "      <td>13.006191</td>\n",
       "    </tr>\n",
       "    <tr>\n",
       "      <th>17</th>\n",
       "      <td>구로구</td>\n",
       "      <td>447874.0</td>\n",
       "      <td>416487.0</td>\n",
       "      <td>31387.0</td>\n",
       "      <td>56833.0</td>\n",
       "      <td>7.007998</td>\n",
       "      <td>12.689506</td>\n",
       "    </tr>\n",
       "    <tr>\n",
       "      <th>18</th>\n",
       "      <td>금천구</td>\n",
       "      <td>255082.0</td>\n",
       "      <td>236353.0</td>\n",
       "      <td>18729.0</td>\n",
       "      <td>32970.0</td>\n",
       "      <td>7.342345</td>\n",
       "      <td>12.925255</td>\n",
       "    </tr>\n",
       "    <tr>\n",
       "      <th>21</th>\n",
       "      <td>관악구</td>\n",
       "      <td>525515.0</td>\n",
       "      <td>507203.0</td>\n",
       "      <td>18312.0</td>\n",
       "      <td>68082.0</td>\n",
       "      <td>3.484582</td>\n",
       "      <td>12.955291</td>\n",
       "    </tr>\n",
       "    <tr>\n",
       "      <th>6</th>\n",
       "      <td>동대문구</td>\n",
       "      <td>369496.0</td>\n",
       "      <td>354079.0</td>\n",
       "      <td>15417.0</td>\n",
       "      <td>54173.0</td>\n",
       "      <td>4.172440</td>\n",
       "      <td>14.661322</td>\n",
       "    </tr>\n",
       "  </tbody>\n",
       "</table>\n",
       "</div>"
      ],
      "text/plain": [
       "      구별       인구수       한국인      외국인      고령자     외국인비율      고령자비율\n",
       "19  영등포구  402985.0  368072.0  34913.0  52413.0  8.663598  13.006191\n",
       "17   구로구  447874.0  416487.0  31387.0  56833.0  7.007998  12.689506\n",
       "18   금천구  255082.0  236353.0  18729.0  32970.0  7.342345  12.925255\n",
       "21   관악구  525515.0  507203.0  18312.0  68082.0  3.484582  12.955291\n",
       "6   동대문구  369496.0  354079.0  15417.0  54173.0  4.172440  14.661322"
      ]
     },
     "execution_count": 71,
     "metadata": {},
     "output_type": "execute_result"
    }
   ],
   "source": [
    "POP_Seoul.sort_values(by='외국인', ascending=False).head()"
   ]
  },
  {
   "cell_type": "markdown",
   "id": "fd27d47b",
   "metadata": {},
   "source": [
    "### 외국인 비율이 높은 상위 5개 구"
   ]
  },
  {
   "cell_type": "code",
   "execution_count": 72,
   "id": "6c95bd09",
   "metadata": {},
   "outputs": [
    {
     "data": {
      "text/html": [
       "<div>\n",
       "<style scoped>\n",
       "    .dataframe tbody tr th:only-of-type {\n",
       "        vertical-align: middle;\n",
       "    }\n",
       "\n",
       "    .dataframe tbody tr th {\n",
       "        vertical-align: top;\n",
       "    }\n",
       "\n",
       "    .dataframe thead th {\n",
       "        text-align: right;\n",
       "    }\n",
       "</style>\n",
       "<table border=\"1\" class=\"dataframe\">\n",
       "  <thead>\n",
       "    <tr style=\"text-align: right;\">\n",
       "      <th></th>\n",
       "      <th>구별</th>\n",
       "      <th>인구수</th>\n",
       "      <th>한국인</th>\n",
       "      <th>외국인</th>\n",
       "      <th>고령자</th>\n",
       "      <th>외국인비율</th>\n",
       "      <th>고령자비율</th>\n",
       "    </tr>\n",
       "  </thead>\n",
       "  <tbody>\n",
       "    <tr>\n",
       "      <th>19</th>\n",
       "      <td>영등포구</td>\n",
       "      <td>402985.0</td>\n",
       "      <td>368072.0</td>\n",
       "      <td>34913.0</td>\n",
       "      <td>52413.0</td>\n",
       "      <td>8.663598</td>\n",
       "      <td>13.006191</td>\n",
       "    </tr>\n",
       "    <tr>\n",
       "      <th>18</th>\n",
       "      <td>금천구</td>\n",
       "      <td>255082.0</td>\n",
       "      <td>236353.0</td>\n",
       "      <td>18729.0</td>\n",
       "      <td>32970.0</td>\n",
       "      <td>7.342345</td>\n",
       "      <td>12.925255</td>\n",
       "    </tr>\n",
       "    <tr>\n",
       "      <th>17</th>\n",
       "      <td>구로구</td>\n",
       "      <td>447874.0</td>\n",
       "      <td>416487.0</td>\n",
       "      <td>31387.0</td>\n",
       "      <td>56833.0</td>\n",
       "      <td>7.007998</td>\n",
       "      <td>12.689506</td>\n",
       "    </tr>\n",
       "    <tr>\n",
       "      <th>2</th>\n",
       "      <td>중구</td>\n",
       "      <td>133240.0</td>\n",
       "      <td>124312.0</td>\n",
       "      <td>8928.0</td>\n",
       "      <td>20764.0</td>\n",
       "      <td>6.700690</td>\n",
       "      <td>15.583909</td>\n",
       "    </tr>\n",
       "    <tr>\n",
       "      <th>3</th>\n",
       "      <td>용산구</td>\n",
       "      <td>244203.0</td>\n",
       "      <td>229456.0</td>\n",
       "      <td>14747.0</td>\n",
       "      <td>36231.0</td>\n",
       "      <td>6.038828</td>\n",
       "      <td>14.836427</td>\n",
       "    </tr>\n",
       "  </tbody>\n",
       "</table>\n",
       "</div>"
      ],
      "text/plain": [
       "      구별       인구수       한국인      외국인      고령자     외국인비율      고령자비율\n",
       "19  영등포구  402985.0  368072.0  34913.0  52413.0  8.663598  13.006191\n",
       "18   금천구  255082.0  236353.0  18729.0  32970.0  7.342345  12.925255\n",
       "17   구로구  447874.0  416487.0  31387.0  56833.0  7.007998  12.689506\n",
       "2     중구  133240.0  124312.0   8928.0  20764.0  6.700690  15.583909\n",
       "3    용산구  244203.0  229456.0  14747.0  36231.0  6.038828  14.836427"
      ]
     },
     "execution_count": 72,
     "metadata": {},
     "output_type": "execute_result"
    }
   ],
   "source": [
    "POP_Seoul.sort_values(by='외국인비율', ascending=False).head()"
   ]
  },
  {
   "cell_type": "markdown",
   "id": "f8401286",
   "metadata": {},
   "source": [
    "### 고령자 비율 높은 상위 5개 구"
   ]
  },
  {
   "cell_type": "code",
   "execution_count": 73,
   "id": "5bfa3bdf",
   "metadata": {},
   "outputs": [
    {
     "data": {
      "text/html": [
       "<div>\n",
       "<style scoped>\n",
       "    .dataframe tbody tr th:only-of-type {\n",
       "        vertical-align: middle;\n",
       "    }\n",
       "\n",
       "    .dataframe tbody tr th {\n",
       "        vertical-align: top;\n",
       "    }\n",
       "\n",
       "    .dataframe thead th {\n",
       "        text-align: right;\n",
       "    }\n",
       "</style>\n",
       "<table border=\"1\" class=\"dataframe\">\n",
       "  <thead>\n",
       "    <tr style=\"text-align: right;\">\n",
       "      <th></th>\n",
       "      <th>구별</th>\n",
       "      <th>인구수</th>\n",
       "      <th>한국인</th>\n",
       "      <th>외국인</th>\n",
       "      <th>고령자</th>\n",
       "      <th>외국인비율</th>\n",
       "      <th>고령자비율</th>\n",
       "    </tr>\n",
       "  </thead>\n",
       "  <tbody>\n",
       "    <tr>\n",
       "      <th>9</th>\n",
       "      <td>강북구</td>\n",
       "      <td>330192.0</td>\n",
       "      <td>326686.0</td>\n",
       "      <td>3506.0</td>\n",
       "      <td>54813.0</td>\n",
       "      <td>1.061806</td>\n",
       "      <td>16.600342</td>\n",
       "    </tr>\n",
       "    <tr>\n",
       "      <th>1</th>\n",
       "      <td>종로구</td>\n",
       "      <td>162820.0</td>\n",
       "      <td>153589.0</td>\n",
       "      <td>9231.0</td>\n",
       "      <td>25425.0</td>\n",
       "      <td>5.669451</td>\n",
       "      <td>15.615404</td>\n",
       "    </tr>\n",
       "    <tr>\n",
       "      <th>2</th>\n",
       "      <td>중구</td>\n",
       "      <td>133240.0</td>\n",
       "      <td>124312.0</td>\n",
       "      <td>8928.0</td>\n",
       "      <td>20764.0</td>\n",
       "      <td>6.700690</td>\n",
       "      <td>15.583909</td>\n",
       "    </tr>\n",
       "    <tr>\n",
       "      <th>3</th>\n",
       "      <td>용산구</td>\n",
       "      <td>244203.0</td>\n",
       "      <td>229456.0</td>\n",
       "      <td>14747.0</td>\n",
       "      <td>36231.0</td>\n",
       "      <td>6.038828</td>\n",
       "      <td>14.836427</td>\n",
       "    </tr>\n",
       "    <tr>\n",
       "      <th>13</th>\n",
       "      <td>서대문구</td>\n",
       "      <td>327163.0</td>\n",
       "      <td>314982.0</td>\n",
       "      <td>12181.0</td>\n",
       "      <td>48161.0</td>\n",
       "      <td>3.723221</td>\n",
       "      <td>14.720797</td>\n",
       "    </tr>\n",
       "  </tbody>\n",
       "</table>\n",
       "</div>"
      ],
      "text/plain": [
       "      구별       인구수       한국인      외국인      고령자     외국인비율      고령자비율\n",
       "9    강북구  330192.0  326686.0   3506.0  54813.0  1.061806  16.600342\n",
       "1    종로구  162820.0  153589.0   9231.0  25425.0  5.669451  15.615404\n",
       "2     중구  133240.0  124312.0   8928.0  20764.0  6.700690  15.583909\n",
       "3    용산구  244203.0  229456.0  14747.0  36231.0  6.038828  14.836427\n",
       "13  서대문구  327163.0  314982.0  12181.0  48161.0  3.723221  14.720797"
      ]
     },
     "execution_count": 73,
     "metadata": {},
     "output_type": "execute_result"
    }
   ],
   "source": [
    "POP_Seoul.sort_values(by='고령자비율', ascending=False).head()"
   ]
  },
  {
   "cell_type": "markdown",
   "id": "513c4d92",
   "metadata": {},
   "source": [
    "### CCTV, POP 데이터프레임 병합"
   ]
  },
  {
   "cell_type": "markdown",
   "id": "e471feef",
   "metadata": {},
   "source": [
    "### 1. 데이터 확인\n",
    "\n",
    "###### 1-1. 서울시 CCTV 현황"
   ]
  },
  {
   "cell_type": "code",
   "execution_count": 95,
   "id": "c60793e9",
   "metadata": {},
   "outputs": [
    {
     "data": {
      "text/html": [
       "<div>\n",
       "<style scoped>\n",
       "    .dataframe tbody tr th:only-of-type {\n",
       "        vertical-align: middle;\n",
       "    }\n",
       "\n",
       "    .dataframe tbody tr th {\n",
       "        vertical-align: top;\n",
       "    }\n",
       "\n",
       "    .dataframe thead th {\n",
       "        text-align: right;\n",
       "    }\n",
       "</style>\n",
       "<table border=\"1\" class=\"dataframe\">\n",
       "  <thead>\n",
       "    <tr style=\"text-align: right;\">\n",
       "      <th></th>\n",
       "      <th>구별</th>\n",
       "      <th>소계</th>\n",
       "      <th>2013년도 이전</th>\n",
       "      <th>2014년</th>\n",
       "      <th>2015년</th>\n",
       "      <th>2016년</th>\n",
       "      <th>최근증가율</th>\n",
       "    </tr>\n",
       "  </thead>\n",
       "  <tbody>\n",
       "    <tr>\n",
       "      <th>0</th>\n",
       "      <td>강남구</td>\n",
       "      <td>2780</td>\n",
       "      <td>1292</td>\n",
       "      <td>430</td>\n",
       "      <td>584</td>\n",
       "      <td>932</td>\n",
       "      <td>1086.136223</td>\n",
       "    </tr>\n",
       "    <tr>\n",
       "      <th>1</th>\n",
       "      <td>강동구</td>\n",
       "      <td>773</td>\n",
       "      <td>379</td>\n",
       "      <td>99</td>\n",
       "      <td>155</td>\n",
       "      <td>377</td>\n",
       "      <td>353.472296</td>\n",
       "    </tr>\n",
       "    <tr>\n",
       "      <th>2</th>\n",
       "      <td>강북구</td>\n",
       "      <td>748</td>\n",
       "      <td>369</td>\n",
       "      <td>120</td>\n",
       "      <td>138</td>\n",
       "      <td>204</td>\n",
       "      <td>313.284553</td>\n",
       "    </tr>\n",
       "  </tbody>\n",
       "</table>\n",
       "</div>"
      ],
      "text/plain": [
       "    구별    소계  2013년도 이전  2014년  2015년  2016년        최근증가율\n",
       "0  강남구  2780       1292    430    584    932  1086.136223\n",
       "1  강동구   773        379     99    155    377   353.472296\n",
       "2  강북구   748        369    120    138    204   313.284553"
      ]
     },
     "execution_count": 95,
     "metadata": {},
     "output_type": "execute_result"
    }
   ],
   "source": [
    "CCTV_Seoul.head(3)"
   ]
  },
  {
   "cell_type": "markdown",
   "id": "746845e6",
   "metadata": {},
   "source": [
    "###### 1-2. 서울시 인구현황"
   ]
  },
  {
   "cell_type": "code",
   "execution_count": 96,
   "id": "4df5f4fa",
   "metadata": {},
   "outputs": [
    {
     "data": {
      "text/html": [
       "<div>\n",
       "<style scoped>\n",
       "    .dataframe tbody tr th:only-of-type {\n",
       "        vertical-align: middle;\n",
       "    }\n",
       "\n",
       "    .dataframe tbody tr th {\n",
       "        vertical-align: top;\n",
       "    }\n",
       "\n",
       "    .dataframe thead th {\n",
       "        text-align: right;\n",
       "    }\n",
       "</style>\n",
       "<table border=\"1\" class=\"dataframe\">\n",
       "  <thead>\n",
       "    <tr style=\"text-align: right;\">\n",
       "      <th></th>\n",
       "      <th>구별</th>\n",
       "      <th>인구수</th>\n",
       "      <th>한국인</th>\n",
       "      <th>외국인</th>\n",
       "      <th>고령자</th>\n",
       "      <th>외국인비율</th>\n",
       "      <th>고령자비율</th>\n",
       "    </tr>\n",
       "  </thead>\n",
       "  <tbody>\n",
       "    <tr>\n",
       "      <th>1</th>\n",
       "      <td>종로구</td>\n",
       "      <td>162820.0</td>\n",
       "      <td>153589.0</td>\n",
       "      <td>9231.0</td>\n",
       "      <td>25425.0</td>\n",
       "      <td>5.669451</td>\n",
       "      <td>15.615404</td>\n",
       "    </tr>\n",
       "    <tr>\n",
       "      <th>2</th>\n",
       "      <td>중구</td>\n",
       "      <td>133240.0</td>\n",
       "      <td>124312.0</td>\n",
       "      <td>8928.0</td>\n",
       "      <td>20764.0</td>\n",
       "      <td>6.700690</td>\n",
       "      <td>15.583909</td>\n",
       "    </tr>\n",
       "    <tr>\n",
       "      <th>3</th>\n",
       "      <td>용산구</td>\n",
       "      <td>244203.0</td>\n",
       "      <td>229456.0</td>\n",
       "      <td>14747.0</td>\n",
       "      <td>36231.0</td>\n",
       "      <td>6.038828</td>\n",
       "      <td>14.836427</td>\n",
       "    </tr>\n",
       "  </tbody>\n",
       "</table>\n",
       "</div>"
      ],
      "text/plain": [
       "    구별       인구수       한국인      외국인      고령자     외국인비율      고령자비율\n",
       "1  종로구  162820.0  153589.0   9231.0  25425.0  5.669451  15.615404\n",
       "2   중구  133240.0  124312.0   8928.0  20764.0  6.700690  15.583909\n",
       "3  용산구  244203.0  229456.0  14747.0  36231.0  6.038828  14.836427"
      ]
     },
     "execution_count": 96,
     "metadata": {},
     "output_type": "execute_result"
    }
   ],
   "source": [
    "POP_Seoul.head(3)"
   ]
  },
  {
   "cell_type": "markdown",
   "id": "0e766b74",
   "metadata": {},
   "source": [
    "### 2. 데이터프레임 병합\n",
    "    - 두 데이터프레임을 '구별' 컬럼 값을 기준으로 가로로 이어붙이기\n",
    "    \n",
    "###### 2-2. 이너조인"
   ]
  },
  {
   "cell_type": "code",
   "execution_count": 97,
   "id": "9c16921e",
   "metadata": {},
   "outputs": [
    {
     "data": {
      "text/html": [
       "<div>\n",
       "<style scoped>\n",
       "    .dataframe tbody tr th:only-of-type {\n",
       "        vertical-align: middle;\n",
       "    }\n",
       "\n",
       "    .dataframe tbody tr th {\n",
       "        vertical-align: top;\n",
       "    }\n",
       "\n",
       "    .dataframe thead th {\n",
       "        text-align: right;\n",
       "    }\n",
       "</style>\n",
       "<table border=\"1\" class=\"dataframe\">\n",
       "  <thead>\n",
       "    <tr style=\"text-align: right;\">\n",
       "      <th></th>\n",
       "      <th>구별</th>\n",
       "      <th>소계</th>\n",
       "      <th>2013년도 이전</th>\n",
       "      <th>2014년</th>\n",
       "      <th>2015년</th>\n",
       "      <th>2016년</th>\n",
       "      <th>최근증가율</th>\n",
       "      <th>인구수</th>\n",
       "      <th>한국인</th>\n",
       "      <th>외국인</th>\n",
       "      <th>고령자</th>\n",
       "      <th>외국인비율</th>\n",
       "      <th>고령자비율</th>\n",
       "    </tr>\n",
       "  </thead>\n",
       "  <tbody>\n",
       "    <tr>\n",
       "      <th>0</th>\n",
       "      <td>강남구</td>\n",
       "      <td>2780</td>\n",
       "      <td>1292</td>\n",
       "      <td>430</td>\n",
       "      <td>584</td>\n",
       "      <td>932</td>\n",
       "      <td>1086.136223</td>\n",
       "      <td>570500.0</td>\n",
       "      <td>565550.0</td>\n",
       "      <td>4950.0</td>\n",
       "      <td>63167.0</td>\n",
       "      <td>0.867660</td>\n",
       "      <td>11.072217</td>\n",
       "    </tr>\n",
       "    <tr>\n",
       "      <th>1</th>\n",
       "      <td>강동구</td>\n",
       "      <td>773</td>\n",
       "      <td>379</td>\n",
       "      <td>99</td>\n",
       "      <td>155</td>\n",
       "      <td>377</td>\n",
       "      <td>353.472296</td>\n",
       "      <td>453233.0</td>\n",
       "      <td>449019.0</td>\n",
       "      <td>4214.0</td>\n",
       "      <td>54622.0</td>\n",
       "      <td>0.929765</td>\n",
       "      <td>12.051638</td>\n",
       "    </tr>\n",
       "    <tr>\n",
       "      <th>2</th>\n",
       "      <td>강북구</td>\n",
       "      <td>748</td>\n",
       "      <td>369</td>\n",
       "      <td>120</td>\n",
       "      <td>138</td>\n",
       "      <td>204</td>\n",
       "      <td>313.284553</td>\n",
       "      <td>330192.0</td>\n",
       "      <td>326686.0</td>\n",
       "      <td>3506.0</td>\n",
       "      <td>54813.0</td>\n",
       "      <td>1.061806</td>\n",
       "      <td>16.600342</td>\n",
       "    </tr>\n",
       "  </tbody>\n",
       "</table>\n",
       "</div>"
      ],
      "text/plain": [
       "    구별    소계  2013년도 이전  2014년  2015년  2016년        최근증가율       인구수       한국인  \\\n",
       "0  강남구  2780       1292    430    584    932  1086.136223  570500.0  565550.0   \n",
       "1  강동구   773        379     99    155    377   353.472296  453233.0  449019.0   \n",
       "2  강북구   748        369    120    138    204   313.284553  330192.0  326686.0   \n",
       "\n",
       "      외국인      고령자     외국인비율      고령자비율  \n",
       "0  4950.0  63167.0  0.867660  11.072217  \n",
       "1  4214.0  54622.0  0.929765  12.051638  \n",
       "2  3506.0  54813.0  1.061806  16.600342  "
      ]
     },
     "execution_count": 97,
     "metadata": {},
     "output_type": "execute_result"
    }
   ],
   "source": [
    "data_result = pd.merge( #data_result도 데이터프레임이 됨\n",
    "     CCTV_Seoul #left\n",
    "    ,POP_Seoul #right\n",
    "    ,on='구별' #병합할 기준 컬럼 설정\n",
    ")\n",
    "data_result.head(3)\n",
    "# CCTV 우측 옆에 POP 데이터 프레임이 병합됨"
   ]
  },
  {
   "cell_type": "markdown",
   "id": "eb6ce6e8",
   "metadata": {},
   "source": [
    "### 3. 병합한 데이터프레임(data_result)에서 불필요한 컬럼 삭제"
   ]
  },
  {
   "cell_type": "code",
   "execution_count": 98,
   "id": "7e5c1795",
   "metadata": {},
   "outputs": [],
   "source": [
    "del data_result['2013년도 이전']\n",
    "del data_result['2014년']\n",
    "del data_result['2015년']\n",
    "del data_result['2016년']"
   ]
  },
  {
   "cell_type": "code",
   "execution_count": 99,
   "id": "a86877b6",
   "metadata": {},
   "outputs": [
    {
     "data": {
      "text/html": [
       "<div>\n",
       "<style scoped>\n",
       "    .dataframe tbody tr th:only-of-type {\n",
       "        vertical-align: middle;\n",
       "    }\n",
       "\n",
       "    .dataframe tbody tr th {\n",
       "        vertical-align: top;\n",
       "    }\n",
       "\n",
       "    .dataframe thead th {\n",
       "        text-align: right;\n",
       "    }\n",
       "</style>\n",
       "<table border=\"1\" class=\"dataframe\">\n",
       "  <thead>\n",
       "    <tr style=\"text-align: right;\">\n",
       "      <th></th>\n",
       "      <th>구별</th>\n",
       "      <th>소계</th>\n",
       "      <th>최근증가율</th>\n",
       "      <th>인구수</th>\n",
       "      <th>한국인</th>\n",
       "      <th>외국인</th>\n",
       "      <th>고령자</th>\n",
       "      <th>외국인비율</th>\n",
       "      <th>고령자비율</th>\n",
       "    </tr>\n",
       "  </thead>\n",
       "  <tbody>\n",
       "    <tr>\n",
       "      <th>0</th>\n",
       "      <td>강남구</td>\n",
       "      <td>2780</td>\n",
       "      <td>1086.136223</td>\n",
       "      <td>570500.0</td>\n",
       "      <td>565550.0</td>\n",
       "      <td>4950.0</td>\n",
       "      <td>63167.0</td>\n",
       "      <td>0.867660</td>\n",
       "      <td>11.072217</td>\n",
       "    </tr>\n",
       "    <tr>\n",
       "      <th>1</th>\n",
       "      <td>강동구</td>\n",
       "      <td>773</td>\n",
       "      <td>353.472296</td>\n",
       "      <td>453233.0</td>\n",
       "      <td>449019.0</td>\n",
       "      <td>4214.0</td>\n",
       "      <td>54622.0</td>\n",
       "      <td>0.929765</td>\n",
       "      <td>12.051638</td>\n",
       "    </tr>\n",
       "    <tr>\n",
       "      <th>2</th>\n",
       "      <td>강북구</td>\n",
       "      <td>748</td>\n",
       "      <td>313.284553</td>\n",
       "      <td>330192.0</td>\n",
       "      <td>326686.0</td>\n",
       "      <td>3506.0</td>\n",
       "      <td>54813.0</td>\n",
       "      <td>1.061806</td>\n",
       "      <td>16.600342</td>\n",
       "    </tr>\n",
       "  </tbody>\n",
       "</table>\n",
       "</div>"
      ],
      "text/plain": [
       "    구별    소계        최근증가율       인구수       한국인     외국인      고령자     외국인비율  \\\n",
       "0  강남구  2780  1086.136223  570500.0  565550.0  4950.0  63167.0  0.867660   \n",
       "1  강동구   773   353.472296  453233.0  449019.0  4214.0  54622.0  0.929765   \n",
       "2  강북구   748   313.284553  330192.0  326686.0  3506.0  54813.0  1.061806   \n",
       "\n",
       "       고령자비율  \n",
       "0  11.072217  \n",
       "1  12.051638  \n",
       "2  16.600342  "
      ]
     },
     "execution_count": 99,
     "metadata": {},
     "output_type": "execute_result"
    }
   ],
   "source": [
    "data_result.head(3)"
   ]
  },
  {
   "cell_type": "markdown",
   "id": "28321b44",
   "metadata": {},
   "source": [
    "4. key로 사용할 컬럼을 row 인덱스로 만듦\n",
    "    - set_index('컬럼명', inplace=True) : 컬럼을 인덱스로 보내는 메소드"
   ]
  },
  {
   "cell_type": "code",
   "execution_count": 100,
   "id": "0097c8c8",
   "metadata": {},
   "outputs": [],
   "source": [
    "data_result.set_index('구별', inplace=True)"
   ]
  },
  {
   "cell_type": "code",
   "execution_count": 101,
   "id": "af3ef96e",
   "metadata": {},
   "outputs": [
    {
     "data": {
      "text/html": [
       "<div>\n",
       "<style scoped>\n",
       "    .dataframe tbody tr th:only-of-type {\n",
       "        vertical-align: middle;\n",
       "    }\n",
       "\n",
       "    .dataframe tbody tr th {\n",
       "        vertical-align: top;\n",
       "    }\n",
       "\n",
       "    .dataframe thead th {\n",
       "        text-align: right;\n",
       "    }\n",
       "</style>\n",
       "<table border=\"1\" class=\"dataframe\">\n",
       "  <thead>\n",
       "    <tr style=\"text-align: right;\">\n",
       "      <th></th>\n",
       "      <th>소계</th>\n",
       "      <th>최근증가율</th>\n",
       "      <th>인구수</th>\n",
       "      <th>한국인</th>\n",
       "      <th>외국인</th>\n",
       "      <th>고령자</th>\n",
       "      <th>외국인비율</th>\n",
       "      <th>고령자비율</th>\n",
       "    </tr>\n",
       "    <tr>\n",
       "      <th>구별</th>\n",
       "      <th></th>\n",
       "      <th></th>\n",
       "      <th></th>\n",
       "      <th></th>\n",
       "      <th></th>\n",
       "      <th></th>\n",
       "      <th></th>\n",
       "      <th></th>\n",
       "    </tr>\n",
       "  </thead>\n",
       "  <tbody>\n",
       "    <tr>\n",
       "      <th>강남구</th>\n",
       "      <td>2780</td>\n",
       "      <td>1086.136223</td>\n",
       "      <td>570500.0</td>\n",
       "      <td>565550.0</td>\n",
       "      <td>4950.0</td>\n",
       "      <td>63167.0</td>\n",
       "      <td>0.867660</td>\n",
       "      <td>11.072217</td>\n",
       "    </tr>\n",
       "    <tr>\n",
       "      <th>강동구</th>\n",
       "      <td>773</td>\n",
       "      <td>353.472296</td>\n",
       "      <td>453233.0</td>\n",
       "      <td>449019.0</td>\n",
       "      <td>4214.0</td>\n",
       "      <td>54622.0</td>\n",
       "      <td>0.929765</td>\n",
       "      <td>12.051638</td>\n",
       "    </tr>\n",
       "    <tr>\n",
       "      <th>강북구</th>\n",
       "      <td>748</td>\n",
       "      <td>313.284553</td>\n",
       "      <td>330192.0</td>\n",
       "      <td>326686.0</td>\n",
       "      <td>3506.0</td>\n",
       "      <td>54813.0</td>\n",
       "      <td>1.061806</td>\n",
       "      <td>16.600342</td>\n",
       "    </tr>\n",
       "  </tbody>\n",
       "</table>\n",
       "</div>"
      ],
      "text/plain": [
       "       소계        최근증가율       인구수       한국인     외국인      고령자     외국인비율  \\\n",
       "구별                                                                      \n",
       "강남구  2780  1086.136223  570500.0  565550.0  4950.0  63167.0  0.867660   \n",
       "강동구   773   353.472296  453233.0  449019.0  4214.0  54622.0  0.929765   \n",
       "강북구   748   313.284553  330192.0  326686.0  3506.0  54813.0  1.061806   \n",
       "\n",
       "         고령자비율  \n",
       "구별              \n",
       "강남구  11.072217  \n",
       "강동구  12.051638  \n",
       "강북구  16.600342  "
      ]
     },
     "execution_count": 101,
     "metadata": {},
     "output_type": "execute_result"
    }
   ],
   "source": [
    "data_result.head(3)"
   ]
  },
  {
   "cell_type": "markdown",
   "id": "efd70ab6",
   "metadata": {},
   "source": [
    "### 5. 변수들 간의 관계 확인\n",
    "###### - 평균: 분포의 중간부분 파악 ()\n",
    "$$ \n",
    "\\overline{x} = \\frac{1}{n}\\sum_{i=1}^n x_i \n",
    "$$\n",
    "###### - 분산: 분포가 퍼져있는 정도 파악\n",
    "$$\n",
    "\\begin{align}\n",
    "s^2 &= \\frac{1}{n-1} \\sum_{i=1}^n (x_i - \\overline{x})^2,\\\\\n",
    "s &= \\sqrt{\\frac{1}{n-1} \\sum_{i=1}^n (x_i - \\overline{x})^2}\n",
    "\\end{align}\n",
    "$$\n",
    "###### - 공분산: 변수가 2개일 경우 퍼져있는 정도 파악\n",
    "    \n",
    "            : 음의관계: Cov(X,Y) < 0) \n",
    "            : 양의관계: Cov(X,Y) > 0) \n",
    "            : 관계없음: 공분산=0, Cov(X,Y) = 0, 두 변수가 선형관계가 없다, 각각이 독립변수다. (독립변수면 공분산이 0이 되지만, 역은 성립하지 않음)\n",
    "            : Cov(X,Y) = E((X-x)(Y-y))\n",
    "              (X, Y는 집합, x, y는 평균임)\n",
    "            : 공분산은 X의 편차와 Y의 편차를 곱한 것의 평균이다.\n",
    "            : 'E(X의 편차)의 제곱'은 분산이 됨\n",
    "            : 수치적으로는 비교가 안됨\n",
    "             \n",
    "###### - 상관(Correlation)계수(Coefficient): 공분산을 수치화 한 것\n",
    "    \n",
    "            : -1<= coef <= 1 값을 나타냄\n",
    "            : 수치적 비교가 가능해짐\n",
    "            : Cov(X,Y) / root Var(X)*Var(Y)\n",
    "            : root Var(X)*Var(Y): 각 변수의 표준 편차\n",
    "            : 변수 x, y가 독립이면 상관계수는 0임\n",
    "            : 상관관계가 연된관계는 아님"
   ]
  },
  {
   "cell_type": "markdown",
   "id": "703b19c1",
   "metadata": {},
   "source": [
    "###### 5-1. 고령자비율과 CCTV소계의 상관관계 확인"
   ]
  },
  {
   "cell_type": "code",
   "execution_count": 102,
   "id": "3358fdef",
   "metadata": {},
   "outputs": [
    {
     "data": {
      "text/plain": [
       "array([[ 1.        , -0.28078554],\n",
       "       [-0.28078554,  1.        ]])"
      ]
     },
     "execution_count": 102,
     "metadata": {},
     "output_type": "execute_result"
    }
   ],
   "source": [
    "np.corrcoef(data_result['고령자비율'], data_result['소계']) \n",
    "#정방행렬이 리턴됨"
   ]
  },
  {
   "cell_type": "markdown",
   "id": "879dc0ad",
   "metadata": {},
   "source": [
    "###### 5-2. 외국인비율과 소계 상관관계 확인"
   ]
  },
  {
   "cell_type": "code",
   "execution_count": 103,
   "id": "ef386c82",
   "metadata": {},
   "outputs": [
    {
     "data": {
      "text/plain": [
       "array([[ 1.        , -0.13607433],\n",
       "       [-0.13607433,  1.        ]])"
      ]
     },
     "execution_count": 103,
     "metadata": {},
     "output_type": "execute_result"
    }
   ],
   "source": [
    "np.corrcoef(data_result['외국인비율'], data_result['소계']) "
   ]
  },
  {
   "cell_type": "markdown",
   "id": "330d7d5e",
   "metadata": {},
   "source": [
    "###### 5-3. 인구수와 소계 상관관계 비교\n",
    "        - 상관관계가 있다고 판단"
   ]
  },
  {
   "cell_type": "code",
   "execution_count": 104,
   "id": "68f950c1",
   "metadata": {},
   "outputs": [
    {
     "data": {
      "text/plain": [
       "array([[1.        , 0.30634228],\n",
       "       [0.30634228, 1.        ]])"
      ]
     },
     "execution_count": 104,
     "metadata": {},
     "output_type": "execute_result"
    }
   ],
   "source": [
    "np.corrcoef(data_result['인구수'], data_result['소계']) "
   ]
  },
  {
   "cell_type": "markdown",
   "id": "8a609c52",
   "metadata": {},
   "source": [
    "###### 5-4. 소계와 다른 변수들 간의 상관관계 확인"
   ]
  },
  {
   "cell_type": "code",
   "execution_count": 105,
   "id": "c25c82ac",
   "metadata": {},
   "outputs": [
    {
     "data": {
      "text/plain": [
       "소계       1.000000\n",
       "최근증가율    0.588374\n",
       "인구수      0.306342\n",
       "한국인      0.304287\n",
       "외국인     -0.023786\n",
       "고령자      0.255196\n",
       "외국인비율   -0.136074\n",
       "고령자비율   -0.280786\n",
       "dtype: float64"
      ]
     },
     "execution_count": 105,
     "metadata": {},
     "output_type": "execute_result"
    }
   ],
   "source": [
    "data_result.corrwith(data_result['소계'])\n",
    "# 소계와 관련된 상관계수들 파악에 용이\n",
    "# -(마이너스)는 크게 관계없음\n",
    "# 인수구, 한국인, 고령자는 관계가 있음 (나머지는 없다고 봐도 무방함)"
   ]
  },
  {
   "cell_type": "markdown",
   "id": "4bc8d5be",
   "metadata": {},
   "source": [
    "###### 5-5. 두 컬럼의 상관계수"
   ]
  },
  {
   "cell_type": "code",
   "execution_count": 106,
   "id": "00bd6315",
   "metadata": {},
   "outputs": [
    {
     "data": {
      "text/plain": [
       "0.3063422793679263"
      ]
     },
     "execution_count": 106,
     "metadata": {},
     "output_type": "execute_result"
    }
   ],
   "source": [
    "data_result['소계'].corr(data_result['인구수'])"
   ]
  },
  {
   "cell_type": "markdown",
   "id": "cbaa4d0c",
   "metadata": {},
   "source": [
    "### 6. 정렬\n",
    "###### 6-1. 소계로 내림차순 정렬"
   ]
  },
  {
   "cell_type": "code",
   "execution_count": 107,
   "id": "1acfd6e9",
   "metadata": {},
   "outputs": [
    {
     "data": {
      "text/html": [
       "<div>\n",
       "<style scoped>\n",
       "    .dataframe tbody tr th:only-of-type {\n",
       "        vertical-align: middle;\n",
       "    }\n",
       "\n",
       "    .dataframe tbody tr th {\n",
       "        vertical-align: top;\n",
       "    }\n",
       "\n",
       "    .dataframe thead th {\n",
       "        text-align: right;\n",
       "    }\n",
       "</style>\n",
       "<table border=\"1\" class=\"dataframe\">\n",
       "  <thead>\n",
       "    <tr style=\"text-align: right;\">\n",
       "      <th></th>\n",
       "      <th>소계</th>\n",
       "      <th>최근증가율</th>\n",
       "      <th>인구수</th>\n",
       "      <th>한국인</th>\n",
       "      <th>외국인</th>\n",
       "      <th>고령자</th>\n",
       "      <th>외국인비율</th>\n",
       "      <th>고령자비율</th>\n",
       "    </tr>\n",
       "    <tr>\n",
       "      <th>구별</th>\n",
       "      <th></th>\n",
       "      <th></th>\n",
       "      <th></th>\n",
       "      <th></th>\n",
       "      <th></th>\n",
       "      <th></th>\n",
       "      <th></th>\n",
       "      <th></th>\n",
       "    </tr>\n",
       "  </thead>\n",
       "  <tbody>\n",
       "    <tr>\n",
       "      <th>강남구</th>\n",
       "      <td>2780</td>\n",
       "      <td>1086.136223</td>\n",
       "      <td>570500.0</td>\n",
       "      <td>565550.0</td>\n",
       "      <td>4950.0</td>\n",
       "      <td>63167.0</td>\n",
       "      <td>0.867660</td>\n",
       "      <td>11.072217</td>\n",
       "    </tr>\n",
       "    <tr>\n",
       "      <th>양천구</th>\n",
       "      <td>2034</td>\n",
       "      <td>197.339121</td>\n",
       "      <td>479978.0</td>\n",
       "      <td>475949.0</td>\n",
       "      <td>4029.0</td>\n",
       "      <td>52975.0</td>\n",
       "      <td>0.839413</td>\n",
       "      <td>11.036964</td>\n",
       "    </tr>\n",
       "    <tr>\n",
       "      <th>서초구</th>\n",
       "      <td>1930</td>\n",
       "      <td>521.307255</td>\n",
       "      <td>450310.0</td>\n",
       "      <td>445994.0</td>\n",
       "      <td>4316.0</td>\n",
       "      <td>51733.0</td>\n",
       "      <td>0.958451</td>\n",
       "      <td>11.488308</td>\n",
       "    </tr>\n",
       "  </tbody>\n",
       "</table>\n",
       "</div>"
      ],
      "text/plain": [
       "       소계        최근증가율       인구수       한국인     외국인      고령자     외국인비율  \\\n",
       "구별                                                                      \n",
       "강남구  2780  1086.136223  570500.0  565550.0  4950.0  63167.0  0.867660   \n",
       "양천구  2034   197.339121  479978.0  475949.0  4029.0  52975.0  0.839413   \n",
       "서초구  1930   521.307255  450310.0  445994.0  4316.0  51733.0  0.958451   \n",
       "\n",
       "         고령자비율  \n",
       "구별              \n",
       "강남구  11.072217  \n",
       "양천구  11.036964  \n",
       "서초구  11.488308  "
      ]
     },
     "execution_count": 107,
     "metadata": {},
     "output_type": "execute_result"
    }
   ],
   "source": [
    "data_result.sort_values(by='소계', ascending=False).head(3)"
   ]
  },
  {
   "cell_type": "markdown",
   "id": "5258687d",
   "metadata": {},
   "source": [
    "###### 6-2. 인구수 내임차순 정렬"
   ]
  },
  {
   "cell_type": "code",
   "execution_count": 108,
   "id": "ba1febbe",
   "metadata": {},
   "outputs": [
    {
     "data": {
      "text/html": [
       "<div>\n",
       "<style scoped>\n",
       "    .dataframe tbody tr th:only-of-type {\n",
       "        vertical-align: middle;\n",
       "    }\n",
       "\n",
       "    .dataframe tbody tr th {\n",
       "        vertical-align: top;\n",
       "    }\n",
       "\n",
       "    .dataframe thead th {\n",
       "        text-align: right;\n",
       "    }\n",
       "</style>\n",
       "<table border=\"1\" class=\"dataframe\">\n",
       "  <thead>\n",
       "    <tr style=\"text-align: right;\">\n",
       "      <th></th>\n",
       "      <th>소계</th>\n",
       "      <th>최근증가율</th>\n",
       "      <th>인구수</th>\n",
       "      <th>한국인</th>\n",
       "      <th>외국인</th>\n",
       "      <th>고령자</th>\n",
       "      <th>외국인비율</th>\n",
       "      <th>고령자비율</th>\n",
       "    </tr>\n",
       "    <tr>\n",
       "      <th>구별</th>\n",
       "      <th></th>\n",
       "      <th></th>\n",
       "      <th></th>\n",
       "      <th></th>\n",
       "      <th></th>\n",
       "      <th></th>\n",
       "      <th></th>\n",
       "      <th></th>\n",
       "    </tr>\n",
       "  </thead>\n",
       "  <tbody>\n",
       "    <tr>\n",
       "      <th>송파구</th>\n",
       "      <td>618</td>\n",
       "      <td>176.523629</td>\n",
       "      <td>667483.0</td>\n",
       "      <td>660584.0</td>\n",
       "      <td>6899.0</td>\n",
       "      <td>72506.0</td>\n",
       "      <td>1.033584</td>\n",
       "      <td>10.862599</td>\n",
       "    </tr>\n",
       "    <tr>\n",
       "      <th>강서구</th>\n",
       "      <td>884</td>\n",
       "      <td>462.876289</td>\n",
       "      <td>603772.0</td>\n",
       "      <td>597248.0</td>\n",
       "      <td>6524.0</td>\n",
       "      <td>72548.0</td>\n",
       "      <td>1.080540</td>\n",
       "      <td>12.015794</td>\n",
       "    </tr>\n",
       "    <tr>\n",
       "      <th>강남구</th>\n",
       "      <td>2780</td>\n",
       "      <td>1086.136223</td>\n",
       "      <td>570500.0</td>\n",
       "      <td>565550.0</td>\n",
       "      <td>4950.0</td>\n",
       "      <td>63167.0</td>\n",
       "      <td>0.867660</td>\n",
       "      <td>11.072217</td>\n",
       "    </tr>\n",
       "  </tbody>\n",
       "</table>\n",
       "</div>"
      ],
      "text/plain": [
       "       소계        최근증가율       인구수       한국인     외국인      고령자     외국인비율  \\\n",
       "구별                                                                      \n",
       "송파구   618   176.523629  667483.0  660584.0  6899.0  72506.0  1.033584   \n",
       "강서구   884   462.876289  603772.0  597248.0  6524.0  72548.0  1.080540   \n",
       "강남구  2780  1086.136223  570500.0  565550.0  4950.0  63167.0  0.867660   \n",
       "\n",
       "         고령자비율  \n",
       "구별              \n",
       "송파구  10.862599  \n",
       "강서구  12.015794  \n",
       "강남구  11.072217  "
      ]
     },
     "execution_count": 108,
     "metadata": {},
     "output_type": "execute_result"
    }
   ],
   "source": [
    "data_result.sort_values(by='인구수', ascending=False).head(3)"
   ]
  },
  {
   "cell_type": "markdown",
   "id": "890182e4",
   "metadata": {},
   "source": [
    "# CCTV 현황과 인구 현황을 그래프로 분석"
   ]
  },
  {
   "cell_type": "code",
   "execution_count": 154,
   "id": "3782de85",
   "metadata": {},
   "outputs": [],
   "source": [
    "# 윈도우에서 한글 폰트 사용을 위해서 세팅\n",
    "from matplotlib import font_manager, rc\n",
    "font_path = \"C:/Windows/Fonts/malgun.TTF\"\n",
    "font = font_manager.FontProperties(fname=font_path).get_name()\n",
    "rc('font', family=font)"
   ]
  },
  {
   "cell_type": "code",
   "execution_count": 157,
   "id": "52946b34",
   "metadata": {},
   "outputs": [
    {
     "data": {
      "text/html": [
       "<div>\n",
       "<style scoped>\n",
       "    .dataframe tbody tr th:only-of-type {\n",
       "        vertical-align: middle;\n",
       "    }\n",
       "\n",
       "    .dataframe tbody tr th {\n",
       "        vertical-align: top;\n",
       "    }\n",
       "\n",
       "    .dataframe thead th {\n",
       "        text-align: right;\n",
       "    }\n",
       "</style>\n",
       "<table border=\"1\" class=\"dataframe\">\n",
       "  <thead>\n",
       "    <tr style=\"text-align: right;\">\n",
       "      <th></th>\n",
       "      <th>소계</th>\n",
       "      <th>최근증가율</th>\n",
       "      <th>인구수</th>\n",
       "      <th>한국인</th>\n",
       "      <th>외국인</th>\n",
       "      <th>고령자</th>\n",
       "      <th>외국인비율</th>\n",
       "      <th>고령자비율</th>\n",
       "    </tr>\n",
       "    <tr>\n",
       "      <th>구별</th>\n",
       "      <th></th>\n",
       "      <th></th>\n",
       "      <th></th>\n",
       "      <th></th>\n",
       "      <th></th>\n",
       "      <th></th>\n",
       "      <th></th>\n",
       "      <th></th>\n",
       "    </tr>\n",
       "  </thead>\n",
       "  <tbody>\n",
       "    <tr>\n",
       "      <th>강남구</th>\n",
       "      <td>2780</td>\n",
       "      <td>1086.136223</td>\n",
       "      <td>570500.0</td>\n",
       "      <td>565550.0</td>\n",
       "      <td>4950.0</td>\n",
       "      <td>63167.0</td>\n",
       "      <td>0.867660</td>\n",
       "      <td>11.072217</td>\n",
       "    </tr>\n",
       "    <tr>\n",
       "      <th>강동구</th>\n",
       "      <td>773</td>\n",
       "      <td>353.472296</td>\n",
       "      <td>453233.0</td>\n",
       "      <td>449019.0</td>\n",
       "      <td>4214.0</td>\n",
       "      <td>54622.0</td>\n",
       "      <td>0.929765</td>\n",
       "      <td>12.051638</td>\n",
       "    </tr>\n",
       "    <tr>\n",
       "      <th>강북구</th>\n",
       "      <td>748</td>\n",
       "      <td>313.284553</td>\n",
       "      <td>330192.0</td>\n",
       "      <td>326686.0</td>\n",
       "      <td>3506.0</td>\n",
       "      <td>54813.0</td>\n",
       "      <td>1.061806</td>\n",
       "      <td>16.600342</td>\n",
       "    </tr>\n",
       "    <tr>\n",
       "      <th>강서구</th>\n",
       "      <td>884</td>\n",
       "      <td>462.876289</td>\n",
       "      <td>603772.0</td>\n",
       "      <td>597248.0</td>\n",
       "      <td>6524.0</td>\n",
       "      <td>72548.0</td>\n",
       "      <td>1.080540</td>\n",
       "      <td>12.015794</td>\n",
       "    </tr>\n",
       "    <tr>\n",
       "      <th>관악구</th>\n",
       "      <td>1496</td>\n",
       "      <td>722.458629</td>\n",
       "      <td>525515.0</td>\n",
       "      <td>507203.0</td>\n",
       "      <td>18312.0</td>\n",
       "      <td>68082.0</td>\n",
       "      <td>3.484582</td>\n",
       "      <td>12.955291</td>\n",
       "    </tr>\n",
       "  </tbody>\n",
       "</table>\n",
       "</div>"
      ],
      "text/plain": [
       "       소계        최근증가율       인구수       한국인      외국인      고령자     외국인비율  \\\n",
       "구별                                                                       \n",
       "강남구  2780  1086.136223  570500.0  565550.0   4950.0  63167.0  0.867660   \n",
       "강동구   773   353.472296  453233.0  449019.0   4214.0  54622.0  0.929765   \n",
       "강북구   748   313.284553  330192.0  326686.0   3506.0  54813.0  1.061806   \n",
       "강서구   884   462.876289  603772.0  597248.0   6524.0  72548.0  1.080540   \n",
       "관악구  1496   722.458629  525515.0  507203.0  18312.0  68082.0  3.484582   \n",
       "\n",
       "         고령자비율  \n",
       "구별              \n",
       "강남구  11.072217  \n",
       "강동구  12.051638  \n",
       "강북구  16.600342  \n",
       "강서구  12.015794  \n",
       "관악구  12.955291  "
      ]
     },
     "execution_count": 157,
     "metadata": {},
     "output_type": "execute_result"
    }
   ],
   "source": [
    "# 데이터 확인\n",
    "data_result.head() #병합한 데이터임"
   ]
  },
  {
   "cell_type": "code",
   "execution_count": 164,
   "id": "a83919e9",
   "metadata": {
    "scrolled": true
   },
   "outputs": [
    {
     "data": {
      "text/plain": [
       "<AxesSubplot:xlabel='구별'>"
      ]
     },
     "execution_count": 164,
     "metadata": {},
     "output_type": "execute_result"
    },
    {
     "data": {
      "image/png": "[encoded data removed]",
      "text/plain": [
       "<Figure size 360x216 with 1 Axes>"
      ]
     },
     "metadata": {
      "needs_background": "light"
     },
     "output_type": "display_data"
    }
   ],
   "source": [
    "#데이터 프레임은 시각화 기능이 없음 > matplotlib이 시각화함\n",
    "plt.figure(figsize=(5,3))\n",
    "data_result['소계'].plot(# 한 시리즈만 시각화함\n",
    "    kind='bar' #bar: 막대그래프\n",
    ")"
   ]
  },
  {
   "cell_type": "code",
   "execution_count": 163,
   "id": "385b93a9",
   "metadata": {},
   "outputs": [
    {
     "data": {
      "text/plain": [
       "<AxesSubplot:ylabel='구별'>"
      ]
     },
     "execution_count": 163,
     "metadata": {},
     "output_type": "execute_result"
    },
    {
     "data": {
      "image/png": "[encoded data removed]",
      "text/plain": [
       "<Figure size 360x216 with 1 Axes>"
      ]
     },
     "metadata": {
      "needs_background": "light"
     },
     "output_type": "display_data"
    }
   ],
   "source": [
    "#데이터 프레임은 시각화 기능이 없음 > matplotlib이 시각화함\n",
    "plt.figure(figsize=(5,3))\n",
    "data_result['소계'].plot(# 한 시리즈만 시각화함\n",
    "    kind='barh' #bar: 막대그래프, h: 수평\n",
    ")"
   ]
  },
  {
   "cell_type": "code",
   "execution_count": 160,
   "id": "7a8fe4a6",
   "metadata": {},
   "outputs": [
    {
     "data": {
      "text/plain": [
       "<AxesSubplot:xlabel='구별'>"
      ]
     },
     "execution_count": 160,
     "metadata": {},
     "output_type": "execute_result"
    },
    {
     "data": {
      "image/png": "[encoded data removed]",
      "text/plain": [
       "<Figure size 360x216 with 1 Axes>"
      ]
     },
     "metadata": {
      "needs_background": "light"
     },
     "output_type": "display_data"
    }
   ],
   "source": [
    "plt.figure(figsize=(5,3))\n",
    "data_result['소계'].plot()"
   ]
  },
  {
   "cell_type": "code",
   "execution_count": 166,
   "id": "bfb5df8c",
   "metadata": {},
   "outputs": [
    {
     "data": {
      "text/plain": [
       "<AxesSubplot:xlabel='구별'>"
      ]
     },
     "execution_count": 166,
     "metadata": {},
     "output_type": "execute_result"
    },
    {
     "data": {
      "image/png": "[encoded data removed]",
      "text/plain": [
       "<Figure size 432x288 with 1 Axes>"
      ]
     },
     "metadata": {
      "needs_background": "light"
     },
     "output_type": "display_data"
    }
   ],
   "source": [
    "data_result.plot.bar()"
   ]
  },
  {
   "cell_type": "code",
   "execution_count": 171,
   "id": "84b0a307",
   "metadata": {},
   "outputs": [
    {
     "data": {
      "text/plain": [
       "<AxesSubplot:xlabel='구별'>"
      ]
     },
     "execution_count": 171,
     "metadata": {},
     "output_type": "execute_result"
    },
    {
     "data": {
      "image/png": "[encoded data removed]",
      "text/plain": [
       "<Figure size 432x288 with 1 Axes>"
      ]
     },
     "metadata": {
      "needs_background": "light"
     },
     "output_type": "display_data"
    }
   ],
   "source": [
    "data_result[['외국인비율','고령자비율']].plot.bar()"
   ]
  },
  {
   "cell_type": "code",
   "execution_count": 172,
   "id": "27265923",
   "metadata": {},
   "outputs": [
    {
     "data": {
      "text/plain": [
       "<AxesSubplot:xlabel='구별'>"
      ]
     },
     "execution_count": 172,
     "metadata": {},
     "output_type": "execute_result"
    },
    {
     "data": {
      "image/png": "[encoded data removed]",
      "text/plain": [
       "<Figure size 432x288 with 1 Axes>"
      ]
     },
     "metadata": {
      "needs_background": "light"
     },
     "output_type": "display_data"
    }
   ],
   "source": [
    "data_result[['외국인비율','고령자비율']].plot.line()"
   ]
  },
  {
   "cell_type": "code",
   "execution_count": 175,
   "id": "a814ad06",
   "metadata": {
    "collapsed": true
   },
   "outputs": [
    {
     "ename": "KeyError",
     "evalue": "\"None of [Float64Index([ 11.07221735319895, 12.051637899270354, 16.600341619421428,\\n              12.015794041459358, 12.955291475980705,  11.34284885158156,\\n               12.68950642368166, 12.925255408064857, 12.634882609978504,\\n              14.717507156255916, 14.661322450040053, 13.578250751478716,\\n              12.515109752623516, 14.720796667104777, 11.488308054451378,\\n              12.850689491203044, 14.025061787278325, 10.862598747833278,\\n              11.036964194192233, 13.006191297442832, 14.836427070920505,\\n              14.631018552230232,  15.61540351308193, 15.583908736115282,\\n              13.696885185390698],\\n             dtype='float64')] are in the [columns]\"",
     "output_type": "error",
     "traceback": [
      "\u001b[1;31m---------------------------------------------------------------------------\u001b[0m",
      "\u001b[1;31mKeyError\u001b[0m                                  Traceback (most recent call last)",
      "Input \u001b[1;32mIn [175]\u001b[0m, in \u001b[0;36m<module>\u001b[1;34m\u001b[0m\n\u001b[1;32m----> 1\u001b[0m \u001b[43mdata_result\u001b[49m\u001b[38;5;241;43m.\u001b[39;49m\u001b[43mplot\u001b[49m\u001b[38;5;241;43m.\u001b[39;49m\u001b[43mscatter\u001b[49m\u001b[43m(\u001b[49m\n\u001b[0;32m      2\u001b[0m \u001b[43m     \u001b[49m\u001b[43mdata_result\u001b[49m\u001b[43m[\u001b[49m\u001b[38;5;124;43m'\u001b[39;49m\u001b[38;5;124;43m고령자비율\u001b[39;49m\u001b[38;5;124;43m'\u001b[39;49m\u001b[43m]\u001b[49m\n\u001b[0;32m      3\u001b[0m \u001b[43m    \u001b[49m\u001b[43m,\u001b[49m\u001b[43mdata_result\u001b[49m\u001b[43m[\u001b[49m\u001b[38;5;124;43m'\u001b[39;49m\u001b[38;5;124;43m외국인비율\u001b[39;49m\u001b[38;5;124;43m'\u001b[39;49m\u001b[43m]\u001b[49m\n\u001b[0;32m      4\u001b[0m \u001b[43m)\u001b[49m\n",
      "File \u001b[1;32m~\\anaconda3\\envs\\data-col\\lib\\site-packages\\pandas\\plotting\\_core.py:1669\u001b[0m, in \u001b[0;36mPlotAccessor.scatter\u001b[1;34m(self, x, y, s, c, **kwargs)\u001b[0m\n\u001b[0;32m   1586\u001b[0m \u001b[38;5;28;01mdef\u001b[39;00m \u001b[38;5;21mscatter\u001b[39m(\u001b[38;5;28mself\u001b[39m, x, y, s\u001b[38;5;241m=\u001b[39m\u001b[38;5;28;01mNone\u001b[39;00m, c\u001b[38;5;241m=\u001b[39m\u001b[38;5;28;01mNone\u001b[39;00m, \u001b[38;5;241m*\u001b[39m\u001b[38;5;241m*\u001b[39mkwargs):\n\u001b[0;32m   1587\u001b[0m     \u001b[38;5;124;03m\"\"\"\u001b[39;00m\n\u001b[0;32m   1588\u001b[0m \u001b[38;5;124;03m    Create a scatter plot with varying marker point size and color.\u001b[39;00m\n\u001b[0;32m   1589\u001b[0m \n\u001b[1;32m   (...)\u001b[0m\n\u001b[0;32m   1667\u001b[0m \u001b[38;5;124;03m        ...                       colormap='viridis')\u001b[39;00m\n\u001b[0;32m   1668\u001b[0m \u001b[38;5;124;03m    \"\"\"\u001b[39;00m\n\u001b[1;32m-> 1669\u001b[0m     \u001b[38;5;28;01mreturn\u001b[39;00m \u001b[38;5;28;43mself\u001b[39;49m\u001b[43m(\u001b[49m\u001b[43mkind\u001b[49m\u001b[38;5;241;43m=\u001b[39;49m\u001b[38;5;124;43m\"\u001b[39;49m\u001b[38;5;124;43mscatter\u001b[39;49m\u001b[38;5;124;43m\"\u001b[39;49m\u001b[43m,\u001b[49m\u001b[43m \u001b[49m\u001b[43mx\u001b[49m\u001b[38;5;241;43m=\u001b[39;49m\u001b[43mx\u001b[49m\u001b[43m,\u001b[49m\u001b[43m \u001b[49m\u001b[43my\u001b[49m\u001b[38;5;241;43m=\u001b[39;49m\u001b[43my\u001b[49m\u001b[43m,\u001b[49m\u001b[43m \u001b[49m\u001b[43ms\u001b[49m\u001b[38;5;241;43m=\u001b[39;49m\u001b[43ms\u001b[49m\u001b[43m,\u001b[49m\u001b[43m \u001b[49m\u001b[43mc\u001b[49m\u001b[38;5;241;43m=\u001b[39;49m\u001b[43mc\u001b[49m\u001b[43m,\u001b[49m\u001b[43m \u001b[49m\u001b[38;5;241;43m*\u001b[39;49m\u001b[38;5;241;43m*\u001b[39;49m\u001b[43mkwargs\u001b[49m\u001b[43m)\u001b[49m\n",
      "File \u001b[1;32m~\\anaconda3\\envs\\data-col\\lib\\site-packages\\pandas\\plotting\\_core.py:917\u001b[0m, in \u001b[0;36mPlotAccessor.__call__\u001b[1;34m(self, *args, **kwargs)\u001b[0m\n\u001b[0;32m    915\u001b[0m \u001b[38;5;28;01mif\u001b[39;00m kind \u001b[38;5;129;01min\u001b[39;00m \u001b[38;5;28mself\u001b[39m\u001b[38;5;241m.\u001b[39m_dataframe_kinds:\n\u001b[0;32m    916\u001b[0m     \u001b[38;5;28;01mif\u001b[39;00m \u001b[38;5;28misinstance\u001b[39m(data, ABCDataFrame):\n\u001b[1;32m--> 917\u001b[0m         \u001b[38;5;28;01mreturn\u001b[39;00m \u001b[43mplot_backend\u001b[49m\u001b[38;5;241;43m.\u001b[39;49m\u001b[43mplot\u001b[49m\u001b[43m(\u001b[49m\u001b[43mdata\u001b[49m\u001b[43m,\u001b[49m\u001b[43m \u001b[49m\u001b[43mx\u001b[49m\u001b[38;5;241;43m=\u001b[39;49m\u001b[43mx\u001b[49m\u001b[43m,\u001b[49m\u001b[43m \u001b[49m\u001b[43my\u001b[49m\u001b[38;5;241;43m=\u001b[39;49m\u001b[43my\u001b[49m\u001b[43m,\u001b[49m\u001b[43m \u001b[49m\u001b[43mkind\u001b[49m\u001b[38;5;241;43m=\u001b[39;49m\u001b[43mkind\u001b[49m\u001b[43m,\u001b[49m\u001b[43m \u001b[49m\u001b[38;5;241;43m*\u001b[39;49m\u001b[38;5;241;43m*\u001b[39;49m\u001b[43mkwargs\u001b[49m\u001b[43m)\u001b[49m\n\u001b[0;32m    918\u001b[0m     \u001b[38;5;28;01melse\u001b[39;00m:\n\u001b[0;32m    919\u001b[0m         \u001b[38;5;28;01mraise\u001b[39;00m \u001b[38;5;167;01mValueError\u001b[39;00m(\u001b[38;5;124mf\u001b[39m\u001b[38;5;124m\"\u001b[39m\u001b[38;5;124mplot kind \u001b[39m\u001b[38;5;132;01m{\u001b[39;00mkind\u001b[38;5;132;01m}\u001b[39;00m\u001b[38;5;124m can only be used for data frames\u001b[39m\u001b[38;5;124m\"\u001b[39m)\n",
      "File \u001b[1;32m~\\anaconda3\\envs\\data-col\\lib\\site-packages\\pandas\\plotting\\_matplotlib\\__init__.py:71\u001b[0m, in \u001b[0;36mplot\u001b[1;34m(data, kind, **kwargs)\u001b[0m\n\u001b[0;32m     69\u001b[0m         kwargs[\u001b[38;5;124m\"\u001b[39m\u001b[38;5;124max\u001b[39m\u001b[38;5;124m\"\u001b[39m] \u001b[38;5;241m=\u001b[39m \u001b[38;5;28mgetattr\u001b[39m(ax, \u001b[38;5;124m\"\u001b[39m\u001b[38;5;124mleft_ax\u001b[39m\u001b[38;5;124m\"\u001b[39m, ax)\n\u001b[0;32m     70\u001b[0m plot_obj \u001b[38;5;241m=\u001b[39m PLOT_CLASSES[kind](data, \u001b[38;5;241m*\u001b[39m\u001b[38;5;241m*\u001b[39mkwargs)\n\u001b[1;32m---> 71\u001b[0m \u001b[43mplot_obj\u001b[49m\u001b[38;5;241;43m.\u001b[39;49m\u001b[43mgenerate\u001b[49m\u001b[43m(\u001b[49m\u001b[43m)\u001b[49m\n\u001b[0;32m     72\u001b[0m plot_obj\u001b[38;5;241m.\u001b[39mdraw()\n\u001b[0;32m     73\u001b[0m \u001b[38;5;28;01mreturn\u001b[39;00m plot_obj\u001b[38;5;241m.\u001b[39mresult\n",
      "File \u001b[1;32m~\\anaconda3\\envs\\data-col\\lib\\site-packages\\pandas\\plotting\\_matplotlib\\core.py:329\u001b[0m, in \u001b[0;36mMPLPlot.generate\u001b[1;34m(self)\u001b[0m\n\u001b[0;32m    327\u001b[0m \u001b[38;5;28mself\u001b[39m\u001b[38;5;241m.\u001b[39m_compute_plot_data()\n\u001b[0;32m    328\u001b[0m \u001b[38;5;28mself\u001b[39m\u001b[38;5;241m.\u001b[39m_setup_subplots()\n\u001b[1;32m--> 329\u001b[0m \u001b[38;5;28;43mself\u001b[39;49m\u001b[38;5;241;43m.\u001b[39;49m\u001b[43m_make_plot\u001b[49m\u001b[43m(\u001b[49m\u001b[43m)\u001b[49m\n\u001b[0;32m    330\u001b[0m \u001b[38;5;28mself\u001b[39m\u001b[38;5;241m.\u001b[39m_add_table()\n\u001b[0;32m    331\u001b[0m \u001b[38;5;28mself\u001b[39m\u001b[38;5;241m.\u001b[39m_make_legend()\n",
      "File \u001b[1;32m~\\anaconda3\\envs\\data-col\\lib\\site-packages\\pandas\\plotting\\_matplotlib\\core.py:1115\u001b[0m, in \u001b[0;36mScatterPlot._make_plot\u001b[1;34m(self)\u001b[0m\n\u001b[0;32m   1112\u001b[0m \u001b[38;5;28;01melse\u001b[39;00m:\n\u001b[0;32m   1113\u001b[0m     label \u001b[38;5;241m=\u001b[39m \u001b[38;5;28;01mNone\u001b[39;00m\n\u001b[0;32m   1114\u001b[0m scatter \u001b[38;5;241m=\u001b[39m ax\u001b[38;5;241m.\u001b[39mscatter(\n\u001b[1;32m-> 1115\u001b[0m     \u001b[43mdata\u001b[49m\u001b[43m[\u001b[49m\u001b[43mx\u001b[49m\u001b[43m]\u001b[49m\u001b[38;5;241m.\u001b[39mvalues,\n\u001b[0;32m   1116\u001b[0m     data[y]\u001b[38;5;241m.\u001b[39mvalues,\n\u001b[0;32m   1117\u001b[0m     c\u001b[38;5;241m=\u001b[39mc_values,\n\u001b[0;32m   1118\u001b[0m     label\u001b[38;5;241m=\u001b[39mlabel,\n\u001b[0;32m   1119\u001b[0m     cmap\u001b[38;5;241m=\u001b[39mcmap,\n\u001b[0;32m   1120\u001b[0m     norm\u001b[38;5;241m=\u001b[39mnorm,\n\u001b[0;32m   1121\u001b[0m     \u001b[38;5;241m*\u001b[39m\u001b[38;5;241m*\u001b[39m\u001b[38;5;28mself\u001b[39m\u001b[38;5;241m.\u001b[39mkwds,\n\u001b[0;32m   1122\u001b[0m )\n\u001b[0;32m   1123\u001b[0m \u001b[38;5;28;01mif\u001b[39;00m cb:\n\u001b[0;32m   1124\u001b[0m     cbar_label \u001b[38;5;241m=\u001b[39m c \u001b[38;5;28;01mif\u001b[39;00m c_is_column \u001b[38;5;28;01melse\u001b[39;00m \u001b[38;5;124m\"\u001b[39m\u001b[38;5;124m\"\u001b[39m\n",
      "File \u001b[1;32m~\\anaconda3\\envs\\data-col\\lib\\site-packages\\pandas\\core\\frame.py:3511\u001b[0m, in \u001b[0;36mDataFrame.__getitem__\u001b[1;34m(self, key)\u001b[0m\n\u001b[0;32m   3509\u001b[0m     \u001b[38;5;28;01mif\u001b[39;00m is_iterator(key):\n\u001b[0;32m   3510\u001b[0m         key \u001b[38;5;241m=\u001b[39m \u001b[38;5;28mlist\u001b[39m(key)\n\u001b[1;32m-> 3511\u001b[0m     indexer \u001b[38;5;241m=\u001b[39m \u001b[38;5;28;43mself\u001b[39;49m\u001b[38;5;241;43m.\u001b[39;49m\u001b[43mcolumns\u001b[49m\u001b[38;5;241;43m.\u001b[39;49m\u001b[43m_get_indexer_strict\u001b[49m\u001b[43m(\u001b[49m\u001b[43mkey\u001b[49m\u001b[43m,\u001b[49m\u001b[43m \u001b[49m\u001b[38;5;124;43m\"\u001b[39;49m\u001b[38;5;124;43mcolumns\u001b[39;49m\u001b[38;5;124;43m\"\u001b[39;49m\u001b[43m)\u001b[49m[\u001b[38;5;241m1\u001b[39m]\n\u001b[0;32m   3513\u001b[0m \u001b[38;5;66;03m# take() does not accept boolean indexers\u001b[39;00m\n\u001b[0;32m   3514\u001b[0m \u001b[38;5;28;01mif\u001b[39;00m \u001b[38;5;28mgetattr\u001b[39m(indexer, \u001b[38;5;124m\"\u001b[39m\u001b[38;5;124mdtype\u001b[39m\u001b[38;5;124m\"\u001b[39m, \u001b[38;5;28;01mNone\u001b[39;00m) \u001b[38;5;241m==\u001b[39m \u001b[38;5;28mbool\u001b[39m:\n",
      "File \u001b[1;32m~\\anaconda3\\envs\\data-col\\lib\\site-packages\\pandas\\core\\indexes\\base.py:5782\u001b[0m, in \u001b[0;36mIndex._get_indexer_strict\u001b[1;34m(self, key, axis_name)\u001b[0m\n\u001b[0;32m   5779\u001b[0m \u001b[38;5;28;01melse\u001b[39;00m:\n\u001b[0;32m   5780\u001b[0m     keyarr, indexer, new_indexer \u001b[38;5;241m=\u001b[39m \u001b[38;5;28mself\u001b[39m\u001b[38;5;241m.\u001b[39m_reindex_non_unique(keyarr)\n\u001b[1;32m-> 5782\u001b[0m \u001b[38;5;28;43mself\u001b[39;49m\u001b[38;5;241;43m.\u001b[39;49m\u001b[43m_raise_if_missing\u001b[49m\u001b[43m(\u001b[49m\u001b[43mkeyarr\u001b[49m\u001b[43m,\u001b[49m\u001b[43m \u001b[49m\u001b[43mindexer\u001b[49m\u001b[43m,\u001b[49m\u001b[43m \u001b[49m\u001b[43maxis_name\u001b[49m\u001b[43m)\u001b[49m\n\u001b[0;32m   5784\u001b[0m keyarr \u001b[38;5;241m=\u001b[39m \u001b[38;5;28mself\u001b[39m\u001b[38;5;241m.\u001b[39mtake(indexer)\n\u001b[0;32m   5785\u001b[0m \u001b[38;5;28;01mif\u001b[39;00m \u001b[38;5;28misinstance\u001b[39m(key, Index):\n\u001b[0;32m   5786\u001b[0m     \u001b[38;5;66;03m# GH 42790 - Preserve name from an Index\u001b[39;00m\n",
      "File \u001b[1;32m~\\anaconda3\\envs\\data-col\\lib\\site-packages\\pandas\\core\\indexes\\base.py:5842\u001b[0m, in \u001b[0;36mIndex._raise_if_missing\u001b[1;34m(self, key, indexer, axis_name)\u001b[0m\n\u001b[0;32m   5840\u001b[0m     \u001b[38;5;28;01mif\u001b[39;00m use_interval_msg:\n\u001b[0;32m   5841\u001b[0m         key \u001b[38;5;241m=\u001b[39m \u001b[38;5;28mlist\u001b[39m(key)\n\u001b[1;32m-> 5842\u001b[0m     \u001b[38;5;28;01mraise\u001b[39;00m \u001b[38;5;167;01mKeyError\u001b[39;00m(\u001b[38;5;124mf\u001b[39m\u001b[38;5;124m\"\u001b[39m\u001b[38;5;124mNone of [\u001b[39m\u001b[38;5;132;01m{\u001b[39;00mkey\u001b[38;5;132;01m}\u001b[39;00m\u001b[38;5;124m] are in the [\u001b[39m\u001b[38;5;132;01m{\u001b[39;00maxis_name\u001b[38;5;132;01m}\u001b[39;00m\u001b[38;5;124m]\u001b[39m\u001b[38;5;124m\"\u001b[39m)\n\u001b[0;32m   5844\u001b[0m not_found \u001b[38;5;241m=\u001b[39m \u001b[38;5;28mlist\u001b[39m(ensure_index(key)[missing_mask\u001b[38;5;241m.\u001b[39mnonzero()[\u001b[38;5;241m0\u001b[39m]]\u001b[38;5;241m.\u001b[39munique())\n\u001b[0;32m   5845\u001b[0m \u001b[38;5;28;01mraise\u001b[39;00m \u001b[38;5;167;01mKeyError\u001b[39;00m(\u001b[38;5;124mf\u001b[39m\u001b[38;5;124m\"\u001b[39m\u001b[38;5;132;01m{\u001b[39;00mnot_found\u001b[38;5;132;01m}\u001b[39;00m\u001b[38;5;124m not in index\u001b[39m\u001b[38;5;124m\"\u001b[39m)\n",
      "\u001b[1;31mKeyError\u001b[0m: \"None of [Float64Index([ 11.07221735319895, 12.051637899270354, 16.600341619421428,\\n              12.015794041459358, 12.955291475980705,  11.34284885158156,\\n               12.68950642368166, 12.925255408064857, 12.634882609978504,\\n              14.717507156255916, 14.661322450040053, 13.578250751478716,\\n              12.515109752623516, 14.720796667104777, 11.488308054451378,\\n              12.850689491203044, 14.025061787278325, 10.862598747833278,\\n              11.036964194192233, 13.006191297442832, 14.836427070920505,\\n              14.631018552230232,  15.61540351308193, 15.583908736115282,\\n              13.696885185390698],\\n             dtype='float64')] are in the [columns]\""
     ]
    },
    {
     "data": {
      "image/png": "[encoded data removed]",
      "text/plain": [
       "<Figure size 432x288 with 1 Axes>"
      ]
     },
     "metadata": {
      "needs_background": "light"
     },
     "output_type": "display_data"
    }
   ],
   "source": [
    "data_result.plot.scatter(\n",
    "     data_result['고령자비율']\n",
    "    ,data_result['외국인비율']\n",
    ")"
   ]
  },
  {
   "cell_type": "code",
   "execution_count": 176,
   "id": "7a37f6ef",
   "metadata": {},
   "outputs": [
    {
     "data": {
      "text/plain": [
       "<AxesSubplot:ylabel='구별'>"
      ]
     },
     "execution_count": 176,
     "metadata": {},
     "output_type": "execute_result"
    },
    {
     "data": {
      "image/png": "[encoded data removed]",
      "text/plain": [
       "<Figure size 432x288 with 1 Axes>"
      ]
     },
     "metadata": {
      "needs_background": "light"
     },
     "output_type": "display_data"
    }
   ],
   "source": [
    "data_result['소계'].plot(\n",
    "    kind='barh'\n",
    ")"
   ]
  },
  {
   "cell_type": "code",
   "execution_count": 178,
   "id": "226719e9",
   "metadata": {},
   "outputs": [
    {
     "data": {
      "text/plain": [
       "<AxesSubplot:ylabel='구별'>"
      ]
     },
     "execution_count": 178,
     "metadata": {},
     "output_type": "execute_result"
    },
    {
     "data": {
      "image/png": "[encoded data removed]",
      "text/plain": [
       "<Figure size 720x720 with 1 Axes>"
      ]
     },
     "metadata": {
      "needs_background": "light"
     },
     "output_type": "display_data"
    }
   ],
   "source": [
    "data_result['소계'].plot(\n",
    "     kind='barh'\n",
    "    ,grid=True\n",
    "    ,figsize=(10,10)\n",
    ")"
   ]
  },
  {
   "cell_type": "code",
   "execution_count": 179,
   "id": "b907563d",
   "metadata": {},
   "outputs": [
    {
     "data": {
      "text/plain": [
       "<AxesSubplot:ylabel='구별'>"
      ]
     },
     "execution_count": 179,
     "metadata": {},
     "output_type": "execute_result"
    },
    {
     "data": {
      "image/png": "[encoded data removed]",
      "text/plain": [
       "<Figure size 720x720 with 1 Axes>"
      ]
     },
     "metadata": {
      "needs_background": "light"
     },
     "output_type": "display_data"
    }
   ],
   "source": [
    "data_result['소계'].sort_values().plot(\n",
    "     kind='barh'\n",
    "    ,grid=True\n",
    "    ,figsize=(10,10)\n",
    ")"
   ]
  },
  {
   "cell_type": "code",
   "execution_count": 181,
   "id": "4e712409",
   "metadata": {},
   "outputs": [
    {
     "data": {
      "text/html": [
       "<div>\n",
       "<style scoped>\n",
       "    .dataframe tbody tr th:only-of-type {\n",
       "        vertical-align: middle;\n",
       "    }\n",
       "\n",
       "    .dataframe tbody tr th {\n",
       "        vertical-align: top;\n",
       "    }\n",
       "\n",
       "    .dataframe thead th {\n",
       "        text-align: right;\n",
       "    }\n",
       "</style>\n",
       "<table border=\"1\" class=\"dataframe\">\n",
       "  <thead>\n",
       "    <tr style=\"text-align: right;\">\n",
       "      <th></th>\n",
       "      <th>소계</th>\n",
       "      <th>최근증가율</th>\n",
       "      <th>인구수</th>\n",
       "      <th>한국인</th>\n",
       "      <th>외국인</th>\n",
       "      <th>고령자</th>\n",
       "      <th>외국인비율</th>\n",
       "      <th>고령자비율</th>\n",
       "      <th>CCTV비율</th>\n",
       "    </tr>\n",
       "    <tr>\n",
       "      <th>구별</th>\n",
       "      <th></th>\n",
       "      <th></th>\n",
       "      <th></th>\n",
       "      <th></th>\n",
       "      <th></th>\n",
       "      <th></th>\n",
       "      <th></th>\n",
       "      <th></th>\n",
       "      <th></th>\n",
       "    </tr>\n",
       "  </thead>\n",
       "  <tbody>\n",
       "    <tr>\n",
       "      <th>강남구</th>\n",
       "      <td>2780</td>\n",
       "      <td>1086.136223</td>\n",
       "      <td>570500.0</td>\n",
       "      <td>565550.0</td>\n",
       "      <td>4950.0</td>\n",
       "      <td>63167.0</td>\n",
       "      <td>0.867660</td>\n",
       "      <td>11.072217</td>\n",
       "      <td>0.487292</td>\n",
       "    </tr>\n",
       "    <tr>\n",
       "      <th>강동구</th>\n",
       "      <td>773</td>\n",
       "      <td>353.472296</td>\n",
       "      <td>453233.0</td>\n",
       "      <td>449019.0</td>\n",
       "      <td>4214.0</td>\n",
       "      <td>54622.0</td>\n",
       "      <td>0.929765</td>\n",
       "      <td>12.051638</td>\n",
       "      <td>0.170552</td>\n",
       "    </tr>\n",
       "    <tr>\n",
       "      <th>강북구</th>\n",
       "      <td>748</td>\n",
       "      <td>313.284553</td>\n",
       "      <td>330192.0</td>\n",
       "      <td>326686.0</td>\n",
       "      <td>3506.0</td>\n",
       "      <td>54813.0</td>\n",
       "      <td>1.061806</td>\n",
       "      <td>16.600342</td>\n",
       "      <td>0.226535</td>\n",
       "    </tr>\n",
       "    <tr>\n",
       "      <th>강서구</th>\n",
       "      <td>884</td>\n",
       "      <td>462.876289</td>\n",
       "      <td>603772.0</td>\n",
       "      <td>597248.0</td>\n",
       "      <td>6524.0</td>\n",
       "      <td>72548.0</td>\n",
       "      <td>1.080540</td>\n",
       "      <td>12.015794</td>\n",
       "      <td>0.146413</td>\n",
       "    </tr>\n",
       "    <tr>\n",
       "      <th>관악구</th>\n",
       "      <td>1496</td>\n",
       "      <td>722.458629</td>\n",
       "      <td>525515.0</td>\n",
       "      <td>507203.0</td>\n",
       "      <td>18312.0</td>\n",
       "      <td>68082.0</td>\n",
       "      <td>3.484582</td>\n",
       "      <td>12.955291</td>\n",
       "      <td>0.284673</td>\n",
       "    </tr>\n",
       "  </tbody>\n",
       "</table>\n",
       "</div>"
      ],
      "text/plain": [
       "       소계        최근증가율       인구수       한국인      외국인      고령자     외국인비율  \\\n",
       "구별                                                                       \n",
       "강남구  2780  1086.136223  570500.0  565550.0   4950.0  63167.0  0.867660   \n",
       "강동구   773   353.472296  453233.0  449019.0   4214.0  54622.0  0.929765   \n",
       "강북구   748   313.284553  330192.0  326686.0   3506.0  54813.0  1.061806   \n",
       "강서구   884   462.876289  603772.0  597248.0   6524.0  72548.0  1.080540   \n",
       "관악구  1496   722.458629  525515.0  507203.0  18312.0  68082.0  3.484582   \n",
       "\n",
       "         고령자비율    CCTV비율  \n",
       "구별                        \n",
       "강남구  11.072217  0.487292  \n",
       "강동구  12.051638  0.170552  \n",
       "강북구  16.600342  0.226535  \n",
       "강서구  12.015794  0.146413  \n",
       "관악구  12.955291  0.284673  "
      ]
     },
     "execution_count": 181,
     "metadata": {},
     "output_type": "execute_result"
    }
   ],
   "source": [
    "#인구수 대비 CCTV 비율\n",
    "data_result['CCTV비율'] = data_result['소계']/data_result['인구수']*100\n",
    "data_result.head()"
   ]
  },
  {
   "cell_type": "code",
   "execution_count": 183,
   "id": "3c81b2eb",
   "metadata": {},
   "outputs": [
    {
     "data": {
      "text/plain": [
       "<AxesSubplot:ylabel='구별'>"
      ]
     },
     "execution_count": 183,
     "metadata": {},
     "output_type": "execute_result"
    },
    {
     "data": {
      "image/png": "[encoded data removed]",
      "text/plain": [
       "<Figure size 720x720 with 1 Axes>"
      ]
     },
     "metadata": {
      "needs_background": "light"
     },
     "output_type": "display_data"
    }
   ],
   "source": [
    "data_result['CCTV비율'].sort_values().plot(\n",
    "     kind='barh'\n",
    "    ,grid=True\n",
    "    ,figsize=(10,10)\n",
    ")"
   ]
  },
  {
   "cell_type": "code",
   "execution_count": 184,
   "id": "11610b98",
   "metadata": {
    "scrolled": false
   },
   "outputs": [
    {
     "data": {
      "image/png": "[encoded data removed]",
      "text/plain": [
       "<Figure size 360x360 with 1 Axes>"
      ]
     },
     "metadata": {
      "needs_background": "light"
     },
     "output_type": "display_data"
    }
   ],
   "source": [
    "# 산점도: 인구수와 소계의 관계\n",
    "plt.figure(figsize=(5,5))\n",
    "plt.scatter(data_result['인구수'], data_result['소계'])\n",
    "plt.xlabel('인구수')\n",
    "plt.ylabel('CCTV')\n",
    "plt.show()"
   ]
  },
  {
   "cell_type": "markdown",
   "id": "b1894a5d",
   "metadata": {},
   "source": [
    "# 선형회귀: 오차의 합이 최소가 되는 계수가 a,b인 방정식 구하기"
   ]
  },
  {
   "cell_type": "code",
   "execution_count": null,
   "id": "c69233db",
   "metadata": {},
   "outputs": [],
   "source": [
    "# 인구수 대비 CCTV 비율\n",
    "data_result['CCTV비율'] = data_result['소계']/data_result['인구수'] * 100\n",
    "data_result.head(3)"
   ]
  },
  {
   "cell_type": "code",
   "execution_count": null,
   "id": "ddb237bb",
   "metadata": {},
   "outputs": [],
   "source": [
    "# 산점도 : 인구수, 소계\n",
    "plt.figure(figsize=(5,5))\n",
    "plt.scatter(data_result['인구수'], data_result['소계'],s=50)\n",
    "plt.xlabel('인구수')\n",
    "plt.ylabel('CCTV')\n",
    "plt.show()"
   ]
  },
  {
   "cell_type": "code",
   "execution_count": null,
   "id": "8d8bac0f",
   "metadata": {},
   "outputs": [],
   "source": [
    "plt.figure(figsize=(5,5))\n",
    "plt.scatter(\n",
    "      data_result['인구수']\n",
    "    , data_result['소계']\n",
    "    , s = 50\n",
    "    , c=data_result['오차']\n",
    ")\n",
    "plt.plot(fx, f1(fx), ls='dashed', lw=3, color='green')\n",
    "for n in range(10):\n",
    "    plt.text(\n",
    "          df_sort['인구수'][n]\n",
    "        , df_sort['소계'][n]\n",
    "        , df_sort.index[n]\n",
    "        , fontsize=15\n",
    "    )\n",
    "plt.xlabel('인구수')\n",
    "plt.ylabel('소계')\n",
    "plt.colorbar()\n",
    "plt.show()"
   ]
  }
 ],
 "metadata": {
  "kernelspec": {
   "display_name": "data-col",
   "language": "python",
   "name": "data-col"
  },
  "language_info": {
   "codemirror_mode": {
    "name": "ipython",
    "version": 3
   },
   "file_extension": ".py",
   "mimetype": "text/x-python",
   "name": "python",
   "nbconvert_exporter": "python",
   "pygments_lexer": "ipython3",
   "version": "3.8.12"
  }
 },
 "nbformat": 4,
 "nbformat_minor": 5
}
